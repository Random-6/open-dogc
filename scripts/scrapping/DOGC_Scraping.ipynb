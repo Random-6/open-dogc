{
 "cells": [
  {
   "cell_type": "markdown",
   "metadata": {},
   "source": [
    "## Projecte Opengov \n",
    "\n",
    "The aim of this script is to scrappe the DOGC webpage in order to download all \"Acord\" document type and save them into a Mongo Database. "
   ]
  },
  {
   "cell_type": "markdown",
   "metadata": {},
   "source": [
    "## 1. Packages"
   ]
  },
  {
   "cell_type": "code",
   "execution_count": 351,
   "metadata": {
    "collapsed": true
   },
   "outputs": [],
   "source": [
    "#Packages\n",
    "from selenium import webdriver\n",
    "from selenium import webdriver\n",
    "from selenium.webdriver.common.keys import Keys\n",
    "from selenium import webdriver\n",
    "from selenium.webdriver.support.ui import WebDriverWait\n",
    "from selenium.webdriver.support import expected_conditions as EC\n",
    "from selenium.common.exceptions import TimeoutException\n",
    "from selenium.webdriver.common.by import By\n",
    "import urllib, urllib2,cookielib, re\n",
    "import pymongo\n",
    "import os \n",
    "import numpy as np\n",
    "import pandas as pd\n",
    "import re\n",
    "from time import sleep\n",
    "from random import random"
   ]
  },
  {
   "cell_type": "markdown",
   "metadata": {},
   "source": [
    "## 2. Database"
   ]
  },
  {
   "cell_type": "code",
   "execution_count": 352,
   "metadata": {
    "collapsed": false
   },
   "outputs": [
    {
     "name": "stderr",
     "output_type": "stream",
     "text": [
      "/Users/xisca/anaconda/lib/python2.7/site-packages/ipykernel/__main__.py:5: DeprecationWarning: remove is deprecated. Use delete_one or delete_many instead.\n"
     ]
    },
    {
     "data": {
      "text/plain": [
       "0"
      ]
     },
     "execution_count": 352,
     "metadata": {},
     "output_type": "execute_result"
    }
   ],
   "source": [
    "#Create BD \n",
    "conn = pymongo.MongoClient()\n",
    "db = conn['DB_opengov_castella']\n",
    "DOGC_pdf= db['Persones']   \n",
    "DOGC_pdf.remove()\n",
    "DOGC_pdf.count()"
   ]
  },
  {
   "cell_type": "markdown",
   "metadata": {},
   "source": [
    "#### Helpers\n"
   ]
  },
  {
   "cell_type": "code",
   "execution_count": 298,
   "metadata": {
    "collapsed": true
   },
   "outputs": [],
   "source": [
    "## Deprecated \n",
    "def download_file(download_url):\n",
    "    web_file = urllib.urlopen(download_url)\n",
    "    local_file = open('some_file.pdf', 'w')\n",
    "    local_file.write(web_file.read())\n",
    "    web_file.close()\n",
    "    local_file.close()\n",
    "\n",
    "#if __name__ == 'main':\n",
    "#   download_file('http://www.example.com/some_file.pdf')"
   ]
  },
  {
   "cell_type": "markdown",
   "metadata": {},
   "source": [
    "## 3. Search"
   ]
  },
  {
   "cell_type": "markdown",
   "metadata": {},
   "source": [
    "The first step is to run the browser using selenium and to get the pag ewith all results for a given name. "
   ]
  },
  {
   "cell_type": "markdown",
   "metadata": {},
   "source": [
    "### 3.1 List Documents"
   ]
  },
  {
   "cell_type": "code",
   "execution_count": 353,
   "metadata": {
    "collapsed": false
   },
   "outputs": [],
   "source": [
    "# Advanced search \n",
    "url = 'http://dogc.gencat.cat/ca/' #Url DOGC en catala \n",
    "browser = webdriver.Firefox() \n",
    "#browser = webdriver.Chrome()\n",
    "browser.get(url)\n",
    "sleep(random())\n",
    "\n",
    "cerca_avan = browser.find_element_by_class_name('botonLink')\n",
    "enllac= cerca_avan.find_element_by_class_name('enlace')\n",
    "enllac.click()"
   ]
  },
  {
   "cell_type": "code",
   "execution_count": 4,
   "metadata": {
    "collapsed": false
   },
   "outputs": [
    {
     "name": "stdout",
     "output_type": "stream",
     "text": [
      "\"Meritxell Borras\t\" \n"
     ]
    }
   ],
   "source": [
    "# Search by name --- use this \"cerca\" to input your searched name\n",
    "cerca = 'Meritxell Borras\t'\n",
    "text2 = '\\\"' + cerca + '\\\" '\n",
    "print text2"
   ]
  },
  {
   "cell_type": "code",
   "execution_count": 355,
   "metadata": {
    "collapsed": false
   },
   "outputs": [],
   "source": [
    "# Sent do doc \n",
    "cerca_paraula=browser.find_element_by_id('textWords')\n",
    "cerca_paraula.clear()\n",
    "cerca_paraula.send_keys(text2)\n",
    "\n",
    "boto_cerca1=browser.find_element_by_id('cercaAv1')\n",
    "boto_cerca1.click()"
   ]
  },
  {
   "cell_type": "code",
   "execution_count": null,
   "metadata": {
    "collapsed": true
   },
   "outputs": [],
   "source": [
    "delay = 5"
   ]
  },
  {
   "cell_type": "code",
   "execution_count": 356,
   "metadata": {
    "collapsed": false
   },
   "outputs": [
    {
     "name": "stdout",
     "output_type": "stream",
     "text": [
      "1232\n"
     ]
    }
   ],
   "source": [
    "#WebDriverWait(browser, delay).until(EC.presence_of_element_located((By.ID, 'mainContainer2')))\n",
    "WebDriverWait(browser, delay).until(EC.presence_of_element_located((By.ID, 'mainContainer')))\n",
    "\n",
    "quadre_resultats = browser.find_element_by_class_name('resultats')\n",
    "#valor = int(re.findall(r'\\d+', quadre_resultats.text)[0])\n",
    "valor = int(''.join(re.findall(r'\\d+', quadre_resultats.text)))\n",
    "print valor"
   ]
  },
  {
   "cell_type": "code",
   "execution_count": 357,
   "metadata": {
    "collapsed": false
   },
   "outputs": [
    {
     "name": "stdout",
     "output_type": "stream",
     "text": [
      "200\n"
     ]
    }
   ],
   "source": [
    "if valor>200: \n",
    "    valor = 200 \n",
    "print valor \n",
    "### Limit total of document to request "
   ]
  },
  {
   "cell_type": "markdown",
   "metadata": {},
   "source": [
    "#### 2.  Get documents, download anb save them into DB"
   ]
  },
  {
   "cell_type": "code",
   "execution_count": 342,
   "metadata": {
    "collapsed": false
   },
   "outputs": [
    {
     "name": "stderr",
     "output_type": "stream",
     "text": [
      "/Users/xisca/anaconda/lib/python2.7/site-packages/ipykernel/__main__.py:69: DeprecationWarning: insert is deprecated. Use insert_one or insert_many instead.\n",
      "Exception AttributeError: AttributeError(\"'NoneType' object has no attribute 'close'\",) in <bound method Service.__del__ of <selenium.webdriver.phantomjs.service.Service object at 0x10acbda90>> ignored\n",
      "Exception AttributeError: AttributeError(\"'NoneType' object has no attribute 'close'\",) in <bound method Service.__del__ of <selenium.webdriver.phantomjs.service.Service object at 0x10acbd610>> ignored\n",
      "Exception AttributeError: AttributeError(\"'NoneType' object has no attribute 'close'\",) in <bound method Service.__del__ of <selenium.webdriver.phantomjs.service.Service object at 0x10b4f63d0>> ignored\n",
      "Exception AttributeError: AttributeError(\"'NoneType' object has no attribute 'close'\",) in <bound method Service.__del__ of <selenium.webdriver.phantomjs.service.Service object at 0x1150384d0>> ignored\n",
      "Exception AttributeError: AttributeError(\"'NoneType' object has no attribute 'close'\",) in <bound method Service.__del__ of <selenium.webdriver.phantomjs.service.Service object at 0x115038410>> ignored\n",
      "Exception AttributeError: AttributeError(\"'NoneType' object has no attribute 'close'\",) in <bound method Service.__del__ of <selenium.webdriver.phantomjs.service.Service object at 0x115423890>> ignored\n",
      "Exception "
     ]
    },
    {
     "name": "stdout",
     "output_type": "stream",
     "text": [
      "Siguee mami\n",
      "Siguee mami"
     ]
    },
    {
     "name": "stderr",
     "output_type": "stream",
     "text": [
      "AttributeError: AttributeError(\"'NoneType' object has no attribute 'close'\",) in <bound method Service.__del__ of <selenium.webdriver.phantomjs.service.Service object at 0x115423910>> ignored\n",
      "Exception AttributeError: AttributeError(\"'NoneType' object has no attribute 'close'\",) in <bound method Service.__del__ of <selenium.webdriver.phantomjs.service.Service object at 0x108ba6f10>> ignored\n",
      "Exception AttributeError: AttributeError(\"'NoneType' object has no attribute 'close'\",) in <bound method Service.__del__ of <selenium.webdriver.phantomjs.service.Service object at 0x115038410>> ignored\n",
      "Exception AttributeError: AttributeError(\"'NoneType' object has no attribute 'close'\",) in <bound method Service.__del__ of <selenium.webdriver.phantomjs.service.Service object at 0x115423850>> ignored\n",
      "Exception AttributeError: AttributeError(\"'NoneType' object has no attribute 'close'\",) in <bound method Service.__del__ of <selenium.webdriver.phantomjs.service.Service object at 0x115038350>> ignored\n",
      "Exception AttributeError: AttributeError(\"'NoneType' object has no attribute 'close'\",) in <bound method Service.__del__ of <selenium.webdriver.phantomjs.service.Service object at 0x1084ce590>> ignored\n",
      "Exception AttributeError: AttributeError(\"'NoneType' object has no attribute 'close'\",) in <bound method Service.__del__ of <selenium.webdriver.phantomjs.service.Service object at 0x115038f10>> ignored\n",
      "Exception AttributeError: AttributeError(\"'NoneType' object has no attribute 'close'\",) in <bound method Service.__del__ of <selenium.webdriver.phantomjs.service.Service object at 0x10ace0790>> ignored\n",
      "Exception AttributeError: AttributeError(\"'NoneType' object has no attribute 'close'\",) in <bound method Service.__del__ of <selenium.webdriver.phantomjs.service.Service object at 0x10ace0950>> ignored\n",
      "Exception AttributeError: AttributeError(\"'NoneType' object has no attribute 'close'\",) in <bound method Service.__del__ of <selenium.webdriver.phantomjs.service.Service object at 0x115026710>> ignored\n",
      "Exception AttributeError: AttributeError(\"'NoneType' object has no attribute 'close'\",) in <bound method Service.__del__ of <selenium.webdriver.phantomjs.service.Service object at 0x115ae4cd0>> ignored\n",
      "Exception "
     ]
    },
    {
     "name": "stdout",
     "output_type": "stream",
     "text": [
      "\n",
      "Siguee mami"
     ]
    },
    {
     "name": "stderr",
     "output_type": "stream",
     "text": [
      "AttributeError: AttributeError(\"'NoneType' object has no attribute 'close'\",) in <bound method Service.__del__ of <selenium.webdriver.phantomjs.service.Service object at 0x10ace0f90>> ignored\n",
      "Exception AttributeError: AttributeError(\"'NoneType' object has no attribute 'close'\",) in <bound method Service.__del__ of <selenium.webdriver.phantomjs.service.Service object at 0x1150338d0>> ignored\n",
      "Exception AttributeError: AttributeError(\"'NoneType' object has no attribute 'close'\",) in <bound method Service.__del__ of <selenium.webdriver.phantomjs.service.Service object at 0x10ace0550>> ignored\n",
      "Exception AttributeError: AttributeError(\"'NoneType' object has no attribute 'close'\",) in <bound method Service.__del__ of <selenium.webdriver.phantomjs.service.Service object at 0x115ae4b50>> ignored\n",
      "Exception AttributeError: AttributeError(\"'NoneType' object has no attribute 'close'\",) in <bound method Service.__del__ of <selenium.webdriver.phantomjs.service.Service object at 0x10ace0210>> ignored\n",
      "Exception AttributeError: AttributeError(\"'NoneType' object has no attribute 'close'\",) in <bound method Service.__del__ of <selenium.webdriver.phantomjs.service.Service object at 0x115ae4510>> ignored\n",
      "Exception AttributeError: AttributeError(\"'NoneType' object has no attribute 'close'\",) in <bound method Service.__del__ of <selenium.webdriver.phantomjs.service.Service object at 0x115038cd0>> ignored\n",
      "Exception AttributeError: AttributeError(\"'NoneType' object has no attribute 'close'\",) in <bound method Service.__del__ of <selenium.webdriver.phantomjs.service.Service object at 0x10bec9d10>> ignored\n",
      "Exception AttributeError: AttributeError(\"'NoneType' object has no attribute 'close'\",) in <bound method Service.__del__ of <selenium.webdriver.phantomjs.service.Service object at 0x10acb7e90>> ignored\n",
      "Exception AttributeError: AttributeError(\"'NoneType' object has no attribute 'close'\",) in <bound method Service.__del__ of <selenium.webdriver.phantomjs.service.Service object at 0x1153f2ed0>> ignored\n",
      "Exception AttributeError: AttributeError(\"'NoneType' object has no attribute 'close'\",) in <bound method Service.__del__ of <selenium.webdriver.phantomjs.service.Service object at 0x1153f2210>> ignored\n",
      "Exception "
     ]
    },
    {
     "name": "stdout",
     "output_type": "stream",
     "text": [
      "\n",
      "Siguee mami"
     ]
    },
    {
     "name": "stderr",
     "output_type": "stream",
     "text": [
      "AttributeError: AttributeError(\"'NoneType' object has no attribute 'close'\",) in <bound method Service.__del__ of <selenium.webdriver.phantomjs.service.Service object at 0x1153f2450>> ignored\n",
      "Exception AttributeError: AttributeError(\"'NoneType' object has no attribute 'close'\",) in <bound method Service.__del__ of <selenium.webdriver.phantomjs.service.Service object at 0x1153f2b50>> ignored\n",
      "Exception AttributeError: AttributeError(\"'NoneType' object has no attribute 'close'\",) in <bound method Service.__del__ of <selenium.webdriver.phantomjs.service.Service object at 0x10611cfd0>> ignored\n",
      "Exception AttributeError: AttributeError(\"'NoneType' object has no attribute 'close'\",) in <bound method Service.__del__ of <selenium.webdriver.phantomjs.service.Service object at 0x1153f2290>> ignored\n",
      "Exception AttributeError: AttributeError(\"'NoneType' object has no attribute 'close'\",) in <bound method Service.__del__ of <selenium.webdriver.phantomjs.service.Service object at 0x1153f21d0>> ignored\n",
      "Exception AttributeError: AttributeError(\"'NoneType' object has no attribute 'close'\",) in <bound method Service.__del__ of <selenium.webdriver.phantomjs.service.Service object at 0x1153f2cd0>> ignored\n",
      "Exception AttributeError: AttributeError(\"'NoneType' object has no attribute 'close'\",) in <bound method Service.__del__ of <selenium.webdriver.phantomjs.service.Service object at 0x10bba4490>> ignored\n",
      "Exception AttributeError: AttributeError(\"'NoneType' object has no attribute 'close'\",) in <bound method Service.__del__ of <selenium.webdriver.phantomjs.service.Service object at 0x10ace0090>> ignored\n",
      "Exception AttributeError: AttributeError(\"'NoneType' object has no attribute 'close'\",) in <bound method Service.__del__ of <selenium.webdriver.phantomjs.service.Service object at 0x115423e50>> ignored\n",
      "Exception AttributeError: AttributeError(\"'NoneType' object has no attribute 'close'\",) in <bound method Service.__del__ of <selenium.webdriver.phantomjs.service.Service object at 0x10ace0690>> ignored\n",
      "Exception AttributeError: AttributeError(\"'NoneType' object has no attribute 'close'\",) in <bound method Service.__del__ of <selenium.webdriver.phantomjs.service.Service object at 0x1153f2510>> ignored\n",
      "Exception "
     ]
    },
    {
     "name": "stdout",
     "output_type": "stream",
     "text": [
      "\n",
      "Siguee mami"
     ]
    },
    {
     "name": "stderr",
     "output_type": "stream",
     "text": [
      "AttributeError: AttributeError(\"'NoneType' object has no attribute 'close'\",) in <bound method Service.__del__ of <selenium.webdriver.phantomjs.service.Service object at 0x10ace0c90>> ignored\n",
      "Exception AttributeError: AttributeError(\"'NoneType' object has no attribute 'close'\",) in <bound method Service.__del__ of <selenium.webdriver.phantomjs.service.Service object at 0x10acbd090>> ignored\n",
      "Exception AttributeError: AttributeError(\"'NoneType' object has no attribute 'close'\",) in <bound method Service.__del__ of <selenium.webdriver.phantomjs.service.Service object at 0x115ae4c10>> ignored\n",
      "Exception AttributeError: AttributeError(\"'NoneType' object has no attribute 'close'\",) in <bound method Service.__del__ of <selenium.webdriver.phantomjs.service.Service object at 0x10acbd510>> ignored\n",
      "Exception AttributeError: AttributeError(\"'NoneType' object has no attribute 'close'\",) in <bound method Service.__del__ of <selenium.webdriver.phantomjs.service.Service object at 0x115ae4f10>> ignored\n",
      "Exception AttributeError: AttributeError(\"'NoneType' object has no attribute 'close'\",) in <bound method Service.__del__ of <selenium.webdriver.phantomjs.service.Service object at 0x10ace0ad0>> ignored\n",
      "Exception AttributeError: AttributeError(\"'NoneType' object has no attribute 'close'\",) in <bound method Service.__del__ of <selenium.webdriver.phantomjs.service.Service object at 0x10acb73d0>> ignored\n",
      "Exception AttributeError: AttributeError(\"'NoneType' object has no attribute 'close'\",) in <bound method Service.__del__ of <selenium.webdriver.phantomjs.service.Service object at 0x10ace0450>> ignored\n",
      "Exception AttributeError: AttributeError(\"'NoneType' object has no attribute 'close'\",) in <bound method Service.__del__ of <selenium.webdriver.phantomjs.service.Service object at 0x10ace0bd0>> ignored\n",
      "Exception AttributeError: AttributeError(\"'NoneType' object has no attribute 'close'\",) in <bound method Service.__del__ of <selenium.webdriver.phantomjs.service.Service object at 0x10acbd5d0>> ignored\n",
      "Exception "
     ]
    },
    {
     "name": "stdout",
     "output_type": "stream",
     "text": [
      "\n",
      "Siguee mami"
     ]
    },
    {
     "name": "stderr",
     "output_type": "stream",
     "text": [
      "AttributeError: AttributeError(\"'NoneType' object has no attribute 'close'\",) in <bound method Service.__del__ of <selenium.webdriver.phantomjs.service.Service object at 0x108ba6110>> ignored\n",
      "Exception AttributeError: AttributeError(\"'NoneType' object has no attribute 'close'\",) in <bound method Service.__del__ of <selenium.webdriver.phantomjs.service.Service object at 0x115026510>> ignored\n",
      "Exception AttributeError: AttributeError(\"'NoneType' object has no attribute 'close'\",) in <bound method Service.__del__ of <selenium.webdriver.phantomjs.service.Service object at 0x10acb7e90>> ignored\n",
      "Exception AttributeError: AttributeError(\"'NoneType' object has no attribute 'close'\",) in <bound method Service.__del__ of <selenium.webdriver.phantomjs.service.Service object at 0x10acbda10>> ignored\n",
      "Exception AttributeError: AttributeError(\"'NoneType' object has no attribute 'close'\",) in <bound method Service.__del__ of <selenium.webdriver.phantomjs.service.Service object at 0x10acbdfd0>> ignored\n",
      "Exception AttributeError: AttributeError(\"'NoneType' object has no attribute 'close'\",) in <bound method Service.__del__ of <selenium.webdriver.phantomjs.service.Service object at 0x10ace0250>> ignored\n",
      "Exception AttributeError: AttributeError(\"'NoneType' object has no attribute 'close'\",) in <bound method Service.__del__ of <selenium.webdriver.phantomjs.service.Service object at 0x115ae4890>> ignored\n",
      "Exception AttributeError: AttributeError(\"'NoneType' object has no attribute 'close'\",) in <bound method Service.__del__ of <selenium.webdriver.phantomjs.service.Service object at 0x1153f21d0>> ignored\n",
      "Exception AttributeError: AttributeError(\"'NoneType' object has no attribute 'close'\",) in <bound method Service.__del__ of <selenium.webdriver.phantomjs.service.Service object at 0x1153f2cd0>> ignored\n",
      "Exception AttributeError: AttributeError(\"'NoneType' object has no attribute 'close'\",) in <bound method Service.__del__ of <selenium.webdriver.phantomjs.service.Service object at 0x108ba6790>> ignored\n",
      "Exception AttributeError: AttributeError(\"'NoneType' object has no attribute 'close'\",) in <bound method Service.__del__ of <selenium.webdriver.phantomjs.service.Service object at 0x1153f2b90>> ignored\n",
      "Exception "
     ]
    },
    {
     "name": "stdout",
     "output_type": "stream",
     "text": [
      "\n",
      "Siguee mami"
     ]
    },
    {
     "name": "stderr",
     "output_type": "stream",
     "text": [
      "AttributeError: AttributeError(\"'NoneType' object has no attribute 'close'\",) in <bound method Service.__del__ of <selenium.webdriver.phantomjs.service.Service object at 0x10ace0210>> ignored\n",
      "Exception AttributeError: AttributeError(\"'NoneType' object has no attribute 'close'\",) in <bound method Service.__del__ of <selenium.webdriver.phantomjs.service.Service object at 0x10acbdfd0>> ignored\n",
      "Exception AttributeError: AttributeError(\"'NoneType' object has no attribute 'close'\",) in <bound method Service.__del__ of <selenium.webdriver.phantomjs.service.Service object at 0x10acbdad0>> ignored\n",
      "Exception AttributeError: AttributeError(\"'NoneType' object has no attribute 'close'\",) in <bound method Service.__del__ of <selenium.webdriver.phantomjs.service.Service object at 0x1153f2450>> ignored\n",
      "Exception AttributeError: AttributeError(\"'NoneType' object has no attribute 'close'\",) in <bound method Service.__del__ of <selenium.webdriver.phantomjs.service.Service object at 0x10acbd510>> ignored\n",
      "Exception AttributeError: AttributeError(\"'NoneType' object has no attribute 'close'\",) in <bound method Service.__del__ of <selenium.webdriver.phantomjs.service.Service object at 0x1153f2650>> ignored\n",
      "Exception AttributeError: AttributeError(\"'NoneType' object has no attribute 'close'\",) in <bound method Service.__del__ of <selenium.webdriver.phantomjs.service.Service object at 0x10b4f6150>> ignored\n",
      "Exception AttributeError: AttributeError(\"'NoneType' object has no attribute 'close'\",) in <bound method Service.__del__ of <selenium.webdriver.phantomjs.service.Service object at 0x10b4f62d0>> ignored\n",
      "Exception AttributeError: AttributeError(\"'NoneType' object has no attribute 'close'\",) in <bound method Service.__del__ of <selenium.webdriver.phantomjs.service.Service object at 0x116e80e10>> ignored\n",
      "Exception AttributeError: AttributeError(\"'NoneType' object has no attribute 'close'\",) in <bound method Service.__del__ of <selenium.webdriver.phantomjs.service.Service object at 0x116e80e50>> ignored\n",
      "Exception AttributeError: AttributeError(\"'NoneType' object has no attribute 'close'\",) in <bound method Service.__del__ of <selenium.webdriver.phantomjs.service.Service object at 0x116e80910>> ignored\n",
      "Exception "
     ]
    },
    {
     "name": "stdout",
     "output_type": "stream",
     "text": [
      "\n",
      "All in!!!\n"
     ]
    },
    {
     "name": "stderr",
     "output_type": "stream",
     "text": [
      "AttributeError: AttributeError(\"'NoneType' object has no attribute 'close'\",) in <bound method Service.__del__ of <selenium.webdriver.phantomjs.service.Service object at 0x116e807d0>> ignored\n",
      "Exception AttributeError: AttributeError(\"'NoneType' object has no attribute 'close'\",) in <bound method Service.__del__ of <selenium.webdriver.phantomjs.service.Service object at 0x116e80450>> ignored\n",
      "Exception AttributeError: AttributeError(\"'NoneType' object has no attribute 'close'\",) in <bound method Service.__del__ of <selenium.webdriver.phantomjs.service.Service object at 0x116e80710>> ignored\n",
      "Exception AttributeError: AttributeError(\"'NoneType' object has no attribute 'close'\",) in <bound method Service.__del__ of <selenium.webdriver.phantomjs.service.Service object at 0x115ae4d90>> ignored\n",
      "Exception AttributeError: AttributeError(\"'NoneType' object has no attribute 'close'\",) in <bound method Service.__del__ of <selenium.webdriver.phantomjs.service.Service object at 0x10b51eed0>> ignored\n",
      "Exception AttributeError: AttributeError(\"'NoneType' object has no attribute 'close'\",) in <bound method Service.__del__ of <selenium.webdriver.phantomjs.service.Service object at 0x115038410>> ignored\n",
      "Exception AttributeError: AttributeError(\"'NoneType' object has no attribute 'close'\",) in <bound method Service.__del__ of <selenium.webdriver.phantomjs.service.Service object at 0x115ae4510>> ignored\n",
      "Exception AttributeError: AttributeError(\"'NoneType' object has no attribute 'close'\",) in <bound method Service.__del__ of <selenium.webdriver.phantomjs.service.Service object at 0x10acbd590>> ignored\n",
      "Exception AttributeError: AttributeError(\"'NoneType' object has no attribute 'close'\",) in <bound method Service.__del__ of <selenium.webdriver.phantomjs.service.Service object at 0x1084ce210>> ignored\n",
      "Exception AttributeError: AttributeError(\"'NoneType' object has no attribute 'close'\",) in <bound method Service.__del__ of <selenium.webdriver.phantomjs.service.Service object at 0x10a25e690>> ignored\n",
      "Exception AttributeError: AttributeError(\"'NoneType' object has no attribute 'close'\",) in <bound method Service.__del__ of <selenium.webdriver.phantomjs.service.Service object at 0x10a25ef50>> ignored\n"
     ]
    }
   ],
   "source": [
    "#Download \n",
    "iter_number = 0\n",
    "numero_document_insertats = 0\n",
    "\n",
    "delay=5 \n",
    "while True: \n",
    "    # Look for table of results \n",
    "    quadre_resultats = browser.find_element_by_class_name('resultats')\n",
    "    llista_resultats = quadre_resultats.find_element_by_xpath('//*[@id=\"mainContainer\"]/div/div/div[2]/div[2]/div[1]')\n",
    "    #llista_resultats = quadre_resultats.find_element_by_xpath('//*[@id=\"mainContainer2\"]/div/div/div[2]/div[2]/div[1]/div[2]/ul')\n",
    "    llista_pdf = llista_resultats.find_elements_by_id('enllacFitxa0')\n",
    "    llista_resultats_text = llista_resultats.text\n",
    "    \n",
    "    # Iterator\n",
    "    contador = 1 \n",
    "    for pdf_individual in llista_pdf:\n",
    "        dic = {}\n",
    "        dic['Cerca'] = cerca \n",
    "        dic['Area'] = llista_resultats_text.split('\\n')[contador].split(',')[0].split(' ')[0]\n",
    "        identificador=llista_resultats_text.split('\\n')[contador].split(',')[0].replace('/','_').split(' ')[1:]\n",
    "        identificador_nou = ''\n",
    "        for paraules in identificador: \n",
    "            identificador_nou += paraules+' '\n",
    "        dic['Identificador'] = identificador_nou\n",
    "        dic['URL'] = pdf_individual.get_attribute('href')\n",
    "        \n",
    "        # Reading (open new driver) \n",
    "        name = cerca+'_'+llista_resultats_text.split('\\n')[contador].split(',')[0].split(' ')[0]+'_'+''.join(identificador)\n",
    "        if len(name)>=270: \n",
    "            name=name[0:100]\n",
    "            \n",
    "        url_pdf = pdf_individual.get_attribute('href')\n",
    "        \n",
    "        ## Using phantom browser \n",
    "        #browser_textifitxa = webdriver.Firefox() \n",
    "        browser_textifitxa = webdriver.PhantomJS('/Users/xisca/Desktop/Personal/Postgrau/Projecte/Scraping/phantomjs') \n",
    "        browser_textifitxa.get(url_pdf)\n",
    "        \n",
    "        # Check if page is working \n",
    "        no_funciona=0\n",
    "        try: \n",
    "            browser_textifitxa.find_element_by_class_name('titol').text\n",
    "            no_funciona=0\n",
    "        except:\n",
    "            no_funciona=1\n",
    "        \n",
    "        if no_funciona==0: \n",
    "            # If working, get title \n",
    "            titol_pdf = browser_textifitxa.find_element_by_class_name('titol').text\n",
    "            dic['Titol']=titol_pdf\n",
    "            # Get side data\n",
    "            dades_document = browser_textifitxa.find_element_by_class_name('quadre')\n",
    "            dades = dades_document.find_elements_by_tag_name('li')\n",
    "            dic['Tipus Document']=dades[0].text.split('\\n')[1]\n",
    "            dic['Data del document']=dades[1].text.split('\\n')[1]\n",
    "            #dic['Número del document']=dades[2].text.split('\\n')[1]\n",
    "            #dic['Número del control']=dades[3].text.split('\\n')[1]\n",
    "            if len(dades[len(dades)-1].text.split('\\n'))==1: \n",
    "                dic['Organisme Emisor']=dades[len(dades)-2].text.split('\\n')[1] \n",
    "            else: \n",
    "                dic['Organisme Emisor']=dades[len(dades)-1].text.split('\\n')[1] \n",
    "            # Get all text \n",
    "            fitxa_pdf = browser_textifitxa.find_element_by_class_name('fitxaFragment')\n",
    "            dic['Text']=fitxa_pdf.text \n",
    "        \n",
    "            # Update counter \n",
    "            contador = contador+2\n",
    "            numero_document_insertats += 1\n",
    "            DOGC_pdf.insert(dic)\n",
    "\n",
    "            # Close browser \n",
    "            browser_textifitxa.close() \n",
    "        \n",
    "            # Wait \n",
    "            sleep(random())\n",
    "            \n",
    "        if no_funciona==1:\n",
    "            # If not working, update counter and close \n",
    "            contador = contador+2\n",
    "            numero_document_insertats += 1\n",
    "            #DOGC_pdf.insert(dic)\n",
    "\n",
    "            # Close browser\n",
    "            browser_textifitxa.close() \n",
    "            \n",
    "            # Wait \n",
    "            sleep(random())\n",
    "        \n",
    "    # Next page \n",
    "    siguientes = browser.find_elements_by_class_name('enllacNegreta')\n",
    "    for element in range(np.size(siguientes)): \n",
    "        if siguientes[element].get_attribute('title')== u'Seg\\xfcent':\n",
    "            siguiente=siguientes[element]    \n",
    "\n",
    "    if numero_document_insertats >= valor-1:\n",
    "        print 'All in!!!'\n",
    "        break\n",
    "    else:\n",
    "        siguiente.click()\n",
    "        url = browser.current_url\n",
    "        browser.get(url) \n",
    "        \n",
    "        WebDriverWait(browser, delay).until(EC.presence_of_element_located((By.ID, 'mainContainer2')))\n",
    "        \n",
    "\n",
    "        print 'Siguee mami'        \n",
    "        #aw = browser.window_handles\n",
    "        #browser.switch_to_window(aw[0])\n",
    "        iter_number += 1   \n",
    "        \n",
    "        \n",
    "        \n",
    "browser.close()"
   ]
  },
  {
   "cell_type": "code",
   "execution_count": 343,
   "metadata": {
    "collapsed": false
   },
   "outputs": [
    {
     "name": "stdout",
     "output_type": "stream",
     "text": [
      "96\n",
      "7\n"
     ]
    }
   ],
   "source": [
    "print numero_document_insertats\n",
    "print iter_number"
   ]
  },
  {
   "cell_type": "markdown",
   "metadata": {},
   "source": [
    "#### 3.  Show summary of the database"
   ]
  },
  {
   "cell_type": "code",
   "execution_count": 344,
   "metadata": {
    "collapsed": false
   },
   "outputs": [
    {
     "name": "stdout",
     "output_type": "stream",
     "text": [
      "96\n"
     ]
    },
    {
     "data": {
      "text/html": [
       "<div>\n",
       "<table border=\"1\" class=\"dataframe\">\n",
       "  <thead>\n",
       "    <tr style=\"text-align: right;\">\n",
       "      <th></th>\n",
       "      <th>Area</th>\n",
       "      <th>Cerca</th>\n",
       "      <th>Data del document</th>\n",
       "      <th>Identificador</th>\n",
       "      <th>Organisme Emisor</th>\n",
       "      <th>Text</th>\n",
       "      <th>Tipus Document</th>\n",
       "      <th>Titol</th>\n",
       "      <th>URL</th>\n",
       "      <th>_id</th>\n",
       "    </tr>\n",
       "  </thead>\n",
       "  <tbody>\n",
       "    <tr>\n",
       "      <th>91</th>\n",
       "      <td>EDICTE</td>\n",
       "      <td>Meritxell Borras</td>\n",
       "      <td>05/10/2006</td>\n",
       "      <td>pel qual es fan públiques les candidatures pro...</td>\n",
       "      <td>Juntes Electorals</td>\n",
       "      <td>D'acord amb el que estableix l'article 47.5 de...</td>\n",
       "      <td>Edicte</td>\n",
       "      <td>EDICTE pel qual es fan públiques les candidatu...</td>\n",
       "      <td>http://dogc.gencat.cat/ca/pdogc_canals_interns...</td>\n",
       "      <td>56d3395a9a603e44ad63abf3</td>\n",
       "    </tr>\n",
       "    <tr>\n",
       "      <th>92</th>\n",
       "      <td>EDICTE</td>\n",
       "      <td>Meritxell Borras</td>\n",
       "      <td>29/09/2006</td>\n",
       "      <td>pel qual es fan públiques les candidatures pre...</td>\n",
       "      <td>Juntes Electorals</td>\n",
       "      <td>D'acord amb el que estableix l'article 47.1 de...</td>\n",
       "      <td>Edicte</td>\n",
       "      <td>EDICTE pel qual es fan públiques les candidatu...</td>\n",
       "      <td>http://dogc.gencat.cat/ca/pdogc_canals_interns...</td>\n",
       "      <td>56d339669a603e44ad63abf4</td>\n",
       "    </tr>\n",
       "    <tr>\n",
       "      <th>93</th>\n",
       "      <td>EDICTE</td>\n",
       "      <td>Meritxell Borras</td>\n",
       "      <td>20/10/2003</td>\n",
       "      <td>de 20 d'octubre de 2003</td>\n",
       "      <td>Juntes Electorals</td>\n",
       "      <td>El senyor Jordi Seguí Puntas, president de la ...</td>\n",
       "      <td>Edicte</td>\n",
       "      <td>EDICTE de 20 d'octubre de 2003, pel qual es fa...</td>\n",
       "      <td>http://dogc.gencat.cat/ca/pdogc_canals_interns...</td>\n",
       "      <td>56d339729a603e44ad63abf5</td>\n",
       "    </tr>\n",
       "    <tr>\n",
       "      <th>94</th>\n",
       "      <td>EDICTE</td>\n",
       "      <td>Meritxell Borras</td>\n",
       "      <td>14/10/2003</td>\n",
       "      <td>de 14 d'octubre de 2003</td>\n",
       "      <td>Juntes Electorals</td>\n",
       "      <td>Candidatura núm. 1\\nFormació política: Converg...</td>\n",
       "      <td>Edicte</td>\n",
       "      <td>EDICTE de 14 d'octubre de 2003, pel qual es fa...</td>\n",
       "      <td>http://dogc.gencat.cat/ca/pdogc_canals_interns...</td>\n",
       "      <td>56d3397a9a603e44ad63abf6</td>\n",
       "    </tr>\n",
       "    <tr>\n",
       "      <th>95</th>\n",
       "      <td>EDICTE</td>\n",
       "      <td>Meritxell Borras</td>\n",
       "      <td>20/09/1999</td>\n",
       "      <td>de 20 de setembre de 1999</td>\n",
       "      <td>Juntes Electorals</td>\n",
       "      <td>Aquesta Junta Electoral Provincial, per Resolu...</td>\n",
       "      <td>Edicte</td>\n",
       "      <td>EDICTE de 20 de setembre de 1999, pel qual es ...</td>\n",
       "      <td>http://dogc.gencat.cat/ca/pdogc_canals_interns...</td>\n",
       "      <td>56d339859a603e44ad63abf7</td>\n",
       "    </tr>\n",
       "  </tbody>\n",
       "</table>\n",
       "</div>"
      ],
      "text/plain": [
       "      Area             Cerca Data del document  \\\n",
       "91  EDICTE  Meritxell Borras        05/10/2006   \n",
       "92  EDICTE  Meritxell Borras        29/09/2006   \n",
       "93  EDICTE  Meritxell Borras        20/10/2003   \n",
       "94  EDICTE  Meritxell Borras        14/10/2003   \n",
       "95  EDICTE  Meritxell Borras        20/09/1999   \n",
       "\n",
       "                                        Identificador   Organisme Emisor  \\\n",
       "91  pel qual es fan públiques les candidatures pro...  Juntes Electorals   \n",
       "92  pel qual es fan públiques les candidatures pre...  Juntes Electorals   \n",
       "93                           de 20 d'octubre de 2003   Juntes Electorals   \n",
       "94                           de 14 d'octubre de 2003   Juntes Electorals   \n",
       "95                         de 20 de setembre de 1999   Juntes Electorals   \n",
       "\n",
       "                                                 Text Tipus Document  \\\n",
       "91  D'acord amb el que estableix l'article 47.5 de...         Edicte   \n",
       "92  D'acord amb el que estableix l'article 47.1 de...         Edicte   \n",
       "93  El senyor Jordi Seguí Puntas, president de la ...         Edicte   \n",
       "94  Candidatura núm. 1\\nFormació política: Converg...         Edicte   \n",
       "95  Aquesta Junta Electoral Provincial, per Resolu...         Edicte   \n",
       "\n",
       "                                                Titol  \\\n",
       "91  EDICTE pel qual es fan públiques les candidatu...   \n",
       "92  EDICTE pel qual es fan públiques les candidatu...   \n",
       "93  EDICTE de 20 d'octubre de 2003, pel qual es fa...   \n",
       "94  EDICTE de 14 d'octubre de 2003, pel qual es fa...   \n",
       "95  EDICTE de 20 de setembre de 1999, pel qual es ...   \n",
       "\n",
       "                                                  URL  \\\n",
       "91  http://dogc.gencat.cat/ca/pdogc_canals_interns...   \n",
       "92  http://dogc.gencat.cat/ca/pdogc_canals_interns...   \n",
       "93  http://dogc.gencat.cat/ca/pdogc_canals_interns...   \n",
       "94  http://dogc.gencat.cat/ca/pdogc_canals_interns...   \n",
       "95  http://dogc.gencat.cat/ca/pdogc_canals_interns...   \n",
       "\n",
       "                         _id  \n",
       "91  56d3395a9a603e44ad63abf3  \n",
       "92  56d339669a603e44ad63abf4  \n",
       "93  56d339729a603e44ad63abf5  \n",
       "94  56d3397a9a603e44ad63abf6  \n",
       "95  56d339859a603e44ad63abf7  "
      ]
     },
     "execution_count": 344,
     "metadata": {},
     "output_type": "execute_result"
    }
   ],
   "source": [
    "data = pd.DataFrame(list(DOGC_pdf.find()))\n",
    "print len(data) \n",
    "data.tail()"
   ]
  },
  {
   "cell_type": "code",
   "execution_count": 346,
   "metadata": {
    "collapsed": false
   },
   "outputs": [
    {
     "name": "stdout",
     "output_type": "stream",
     "text": [
      "dogc_Meritxell_Borras.csv\n"
     ]
    }
   ],
   "source": [
    "filename = 'dogc_'+cerca.split(' ')[0]+'_'+cerca.split(' ')[1]+'.csv'\n",
    "print filename\n"
   ]
  },
  {
   "cell_type": "code",
   "execution_count": 347,
   "metadata": {
    "collapsed": true
   },
   "outputs": [],
   "source": [
    "data.to_csv(filename,encoding='utf-8')"
   ]
  },
  {
   "cell_type": "code",
   "execution_count": 348,
   "metadata": {
    "collapsed": false
   },
   "outputs": [
    {
     "name": "stdout",
     "output_type": "stream",
     "text": [
      "Numero filas:  96\n",
      "Numero columnas:  10\n"
     ]
    }
   ],
   "source": [
    "print 'Numero filas: ', len(data.index)\n",
    "print 'Numero columnas: ', len(data.columns)"
   ]
  },
  {
   "cell_type": "code",
   "execution_count": 349,
   "metadata": {
    "collapsed": false
   },
   "outputs": [
    {
     "data": {
      "text/html": [
       "<div>\n",
       "<table border=\"1\" class=\"dataframe\">\n",
       "  <thead>\n",
       "    <tr style=\"text-align: right;\">\n",
       "      <th></th>\n",
       "      <th>Unnamed: 0</th>\n",
       "      <th>Area</th>\n",
       "      <th>Cerca</th>\n",
       "      <th>Data del document</th>\n",
       "      <th>Identificador</th>\n",
       "      <th>Organisme Emisor</th>\n",
       "      <th>Text</th>\n",
       "      <th>Tipus Document</th>\n",
       "      <th>Titol</th>\n",
       "      <th>URL</th>\n",
       "      <th>_id</th>\n",
       "    </tr>\n",
       "  </thead>\n",
       "  <tbody>\n",
       "    <tr>\n",
       "      <th>0</th>\n",
       "      <td>0</td>\n",
       "      <td>DECRET</td>\n",
       "      <td>Meritxell Borras</td>\n",
       "      <td>30/09/2015</td>\n",
       "      <td>217_2015</td>\n",
       "      <td>Departament de la Presidència</td>\n",
       "      <td>La consellera de Governació i Relacions Instit...</td>\n",
       "      <td>Decret</td>\n",
       "      <td>DECRET 217/2015, de 30 de setembre, d'encàrrec...</td>\n",
       "      <td>http://dogc.gencat.cat/ca/pdogc_canals_interns...</td>\n",
       "      <td>56d335ec9a603e44ad63ab98</td>\n",
       "    </tr>\n",
       "    <tr>\n",
       "      <th>1</th>\n",
       "      <td>1</td>\n",
       "      <td>DECRET</td>\n",
       "      <td>Meritxell Borras</td>\n",
       "      <td>27/07/2015</td>\n",
       "      <td>184_2015</td>\n",
       "      <td>Departament de la Presidència</td>\n",
       "      <td>La consellera de Governació i Relacions Instit...</td>\n",
       "      <td>Decret</td>\n",
       "      <td>DECRET 184/2015, de 27 de juliol, d'encàrrec d...</td>\n",
       "      <td>http://dogc.gencat.cat/ca/pdogc_canals_interns...</td>\n",
       "      <td>56d335f29a603e44ad63ab99</td>\n",
       "    </tr>\n",
       "    <tr>\n",
       "      <th>2</th>\n",
       "      <td>2</td>\n",
       "      <td>DECRET</td>\n",
       "      <td>Meritxell Borras</td>\n",
       "      <td>22/06/2015</td>\n",
       "      <td>112_2015</td>\n",
       "      <td>Departament de la Presidència</td>\n",
       "      <td>D’acord amb els articles 12.1 d) i 17 de la Ll...</td>\n",
       "      <td>Decret</td>\n",
       "      <td>DECRET 112/2015, de 22 de juny, pel qual es no...</td>\n",
       "      <td>http://dogc.gencat.cat/ca/pdogc_canals_interns...</td>\n",
       "      <td>56d335f99a603e44ad63ab9a</td>\n",
       "    </tr>\n",
       "    <tr>\n",
       "      <th>3</th>\n",
       "      <td>3</td>\n",
       "      <td>LLEI</td>\n",
       "      <td>Meritxell Borras</td>\n",
       "      <td>21/07/2015</td>\n",
       "      <td>16_2015</td>\n",
       "      <td>Departament de la Presidència</td>\n",
       "      <td>El president de la Generalitat de Catalunya\\n ...</td>\n",
       "      <td>Llei</td>\n",
       "      <td>LLEI 16/2015, del 21 de juliol, de simplificac...</td>\n",
       "      <td>http://dogc.gencat.cat/ca/pdogc_canals_interns...</td>\n",
       "      <td>56d336009a603e44ad63ab9b</td>\n",
       "    </tr>\n",
       "    <tr>\n",
       "      <th>4</th>\n",
       "      <td>4</td>\n",
       "      <td>DECRET</td>\n",
       "      <td>Meritxell Borras</td>\n",
       "      <td>19/01/2016</td>\n",
       "      <td>LLEI 1_2016</td>\n",
       "      <td>Departament de la Presidència</td>\n",
       "      <td>El president de la Generalitat de Catalunya.\\n...</td>\n",
       "      <td>Decret llei</td>\n",
       "      <td>DECRET LLEI 1/2016, de 19 de gener, d'aplicaci...</td>\n",
       "      <td>http://dogc.gencat.cat/ca/pdogc_canals_interns...</td>\n",
       "      <td>56d336069a603e44ad63ab9c</td>\n",
       "    </tr>\n",
       "  </tbody>\n",
       "</table>\n",
       "</div>"
      ],
      "text/plain": [
       "   Unnamed: 0    Area             Cerca Data del document Identificador  \\\n",
       "0           0  DECRET  Meritxell Borras        30/09/2015     217_2015    \n",
       "1           1  DECRET  Meritxell Borras        27/07/2015     184_2015    \n",
       "2           2  DECRET  Meritxell Borras        22/06/2015     112_2015    \n",
       "3           3    LLEI  Meritxell Borras        21/07/2015      16_2015    \n",
       "4           4  DECRET  Meritxell Borras        19/01/2016  LLEI 1_2016    \n",
       "\n",
       "                Organisme Emisor  \\\n",
       "0  Departament de la Presidència   \n",
       "1  Departament de la Presidència   \n",
       "2  Departament de la Presidència   \n",
       "3  Departament de la Presidència   \n",
       "4  Departament de la Presidència   \n",
       "\n",
       "                                                Text Tipus Document  \\\n",
       "0  La consellera de Governació i Relacions Instit...         Decret   \n",
       "1  La consellera de Governació i Relacions Instit...         Decret   \n",
       "2  D’acord amb els articles 12.1 d) i 17 de la Ll...         Decret   \n",
       "3  El president de la Generalitat de Catalunya\\n ...           Llei   \n",
       "4  El president de la Generalitat de Catalunya.\\n...    Decret llei   \n",
       "\n",
       "                                               Titol  \\\n",
       "0  DECRET 217/2015, de 30 de setembre, d'encàrrec...   \n",
       "1  DECRET 184/2015, de 27 de juliol, d'encàrrec d...   \n",
       "2  DECRET 112/2015, de 22 de juny, pel qual es no...   \n",
       "3  LLEI 16/2015, del 21 de juliol, de simplificac...   \n",
       "4  DECRET LLEI 1/2016, de 19 de gener, d'aplicaci...   \n",
       "\n",
       "                                                 URL                       _id  \n",
       "0  http://dogc.gencat.cat/ca/pdogc_canals_interns...  56d335ec9a603e44ad63ab98  \n",
       "1  http://dogc.gencat.cat/ca/pdogc_canals_interns...  56d335f29a603e44ad63ab99  \n",
       "2  http://dogc.gencat.cat/ca/pdogc_canals_interns...  56d335f99a603e44ad63ab9a  \n",
       "3  http://dogc.gencat.cat/ca/pdogc_canals_interns...  56d336009a603e44ad63ab9b  \n",
       "4  http://dogc.gencat.cat/ca/pdogc_canals_interns...  56d336069a603e44ad63ab9c  "
      ]
     },
     "execution_count": 349,
     "metadata": {},
     "output_type": "execute_result"
    }
   ],
   "source": [
    "data_cast = pd.read_csv(filename,encoding='utf-8')\n",
    "data_cast.head()"
   ]
  }
 ],
 "metadata": {
  "kernelspec": {
   "display_name": "Python 2",
   "language": "python",
   "name": "python2"
  },
  "language_info": {
   "codemirror_mode": {
    "name": "ipython",
    "version": 2
   },
   "file_extension": ".py",
   "mimetype": "text/x-python",
   "name": "python",
   "nbconvert_exporter": "python",
   "pygments_lexer": "ipython2",
   "version": "2.7.13"
  }
 },
 "nbformat": 4,
 "nbformat_minor": 0
}
