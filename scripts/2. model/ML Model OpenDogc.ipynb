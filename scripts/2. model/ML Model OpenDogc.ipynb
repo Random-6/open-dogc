{
 "cells": [
  {
   "cell_type": "markdown",
   "metadata": {},
   "source": [
    "## ML Classification\n",
    "\n",
    "\n",
    "Once we have found the topics of interest, we can characterize them by the most frequent words. Using a multi class machine larning classification model, we can verify if those \"most frequent words\" are enough to explain why a document belong to an specific topic. \n",
    "\n",
    "Therefore, this script is based on the application of this multi class classifier and its evaluation. \n"
   ]
  },
  {
   "cell_type": "markdown",
   "metadata": {},
   "source": [
    "### 1. Packages"
   ]
  },
  {
   "cell_type": "code",
   "execution_count": 26,
   "metadata": {
    "collapsed": true
   },
   "outputs": [],
   "source": [
    "##Packages \n",
    "import pandas as pd \n",
    "import numpy as np\n",
    "from sklearn.cross_validation import train_test_split\n",
    "from sklearn import neighbors\n",
    "from sklearn import tree\n",
    "from sklearn import svm\n",
    "from sklearn import metrics\n",
    "import matplotlib.pyplot as plt\n",
    "import string \n"
   ]
  },
  {
   "cell_type": "markdown",
   "metadata": {},
   "source": [
    "### 2. Import data "
   ]
  },
  {
   "cell_type": "code",
   "execution_count": 7,
   "metadata": {
    "collapsed": true
   },
   "outputs": [],
   "source": [
    "##Carregam taula amb \n",
    "data = pd.read_csv('data_angles_classificat_27022016.csv', encoding='utf-8')\n",
    "column_names = ('index','index1','area','cerca','data_document','identificador',\n",
    "                'organisme_emisor','text','tipus_doc','titol','url','id','classificacio')\n",
    "data.columns = column_names"
   ]
  },
  {
   "cell_type": "code",
   "execution_count": 16,
   "metadata": {
    "collapsed": false
   },
   "outputs": [
    {
     "data": {
      "text/plain": [
       "(204, 4285)"
      ]
     },
     "execution_count": 16,
     "metadata": {},
     "output_type": "execute_result"
    }
   ],
   "source": [
    "##Carreguem els docs amb les paraules filtrades\n",
    "data_filtered = pd.read_csv('DOGC_english_text_filtered.csv')\n",
    "data_filtered.shape"
   ]
  },
  {
   "cell_type": "code",
   "execution_count": 17,
   "metadata": {
    "collapsed": false
   },
   "outputs": [
    {
     "data": {
      "text/html": [
       "<div>\n",
       "<table border=\"1\" class=\"dataframe\">\n",
       "  <thead>\n",
       "    <tr style=\"text-align: right;\">\n",
       "      <th></th>\n",
       "      <th>Unnamed: 0</th>\n",
       "      <th>0</th>\n",
       "      <th>1</th>\n",
       "      <th>2</th>\n",
       "      <th>3</th>\n",
       "      <th>4</th>\n",
       "      <th>5</th>\n",
       "      <th>6</th>\n",
       "      <th>7</th>\n",
       "      <th>8</th>\n",
       "      <th>9</th>\n",
       "    </tr>\n",
       "  </thead>\n",
       "  <tbody>\n",
       "    <tr>\n",
       "      <th>0</th>\n",
       "      <td>0</td>\n",
       "      <td>public</td>\n",
       "      <td>provision</td>\n",
       "      <td>article</td>\n",
       "      <td>procedure</td>\n",
       "      <td>administrative</td>\n",
       "      <td>agreement</td>\n",
       "      <td>document</td>\n",
       "      <td>accordance</td>\n",
       "      <td>service</td>\n",
       "      <td>appeal</td>\n",
       "    </tr>\n",
       "    <tr>\n",
       "      <th>1</th>\n",
       "      <td>1</td>\n",
       "      <td>staff</td>\n",
       "      <td>function</td>\n",
       "      <td>job</td>\n",
       "      <td>management</td>\n",
       "      <td>service</td>\n",
       "      <td>approved</td>\n",
       "      <td>care</td>\n",
       "      <td>provision</td>\n",
       "      <td>member</td>\n",
       "      <td>accordance</td>\n",
       "    </tr>\n",
       "    <tr>\n",
       "      <th>2</th>\n",
       "      <td>2</td>\n",
       "      <td>prize</td>\n",
       "      <td>school</td>\n",
       "      <td>research</td>\n",
       "      <td>work</td>\n",
       "      <td>audiovisual</td>\n",
       "      <td>award</td>\n",
       "      <td>jury</td>\n",
       "      <td>euro</td>\n",
       "      <td>communication</td>\n",
       "      <td>grant</td>\n",
       "    </tr>\n",
       "    <tr>\n",
       "      <th>3</th>\n",
       "      <td>3</td>\n",
       "      <td>test</td>\n",
       "      <td>selection</td>\n",
       "      <td>court</td>\n",
       "      <td>public</td>\n",
       "      <td>board</td>\n",
       "      <td>applicant</td>\n",
       "      <td>call</td>\n",
       "      <td>exercise</td>\n",
       "      <td>process</td>\n",
       "      <td>place</td>\n",
       "    </tr>\n",
       "    <tr>\n",
       "      <th>4</th>\n",
       "      <td>4</td>\n",
       "      <td>data</td>\n",
       "      <td>file</td>\n",
       "      <td>professional</td>\n",
       "      <td>exercise</td>\n",
       "      <td>information</td>\n",
       "      <td>right</td>\n",
       "      <td>service</td>\n",
       "      <td>address</td>\n",
       "      <td>access</td>\n",
       "      <td>number</td>\n",
       "    </tr>\n",
       "  </tbody>\n",
       "</table>\n",
       "</div>"
      ],
      "text/plain": [
       "   Unnamed: 0       0          1             2           3               4  \\\n",
       "0           0  public  provision       article   procedure  administrative   \n",
       "1           1   staff   function           job  management         service   \n",
       "2           2   prize     school      research        work     audiovisual   \n",
       "3           3    test  selection         court      public           board   \n",
       "4           4    data       file  professional    exercise     information   \n",
       "\n",
       "           5         6           7              8           9  \n",
       "0  agreement  document  accordance        service      appeal  \n",
       "1   approved      care   provision         member  accordance  \n",
       "2      award      jury        euro  communication       grant  \n",
       "3  applicant      call    exercise        process       place  \n",
       "4      right   service     address         access      number  "
      ]
     },
     "execution_count": 17,
     "metadata": {},
     "output_type": "execute_result"
    }
   ],
   "source": [
    "## Load topics and most frequent words per topic \n",
    "topics = pd.read_csv('topics_27022016.csv')\n",
    "topics.head()"
   ]
  },
  {
   "cell_type": "code",
   "execution_count": 39,
   "metadata": {
    "collapsed": false
   },
   "outputs": [],
   "source": [
    "paraula_text0 = data_filtered.iloc[0].str.strip()"
   ]
  },
  {
   "cell_type": "code",
   "execution_count": 60,
   "metadata": {
    "collapsed": false
   },
   "outputs": [],
   "source": [
    "paraules_topic = list()\n",
    "for topic in topics.values: \n",
    "    for paraula in topic: \n",
    "        paraules_topic.append(paraula)\n",
    "        \n",
    "len(paraules_topic)\n",
    "##Remove numbers \n",
    "for number in range(4): \n",
    "    paraules_topic.remove(number)\n",
    "\n",
    "print 'Paraules topics sense nombres: ',  paraules_topic"
   ]
  },
  {
   "cell_type": "code",
   "execution_count": 134,
   "metadata": {
    "collapsed": false
   },
   "outputs": [],
   "source": [
    "contador = 0\n",
    "vector_paraula_text_topic = [0]*len(paraules_topic)\n",
    "vector_paraula_topic_dins_text = [0]*len(paraula_text0)\n",
    "for paraula_text in paraula_text0: \n",
    "    for paraula_topic in paraules_topic: \n",
    "        if paraula_text==paraula_topic: \n",
    "            vector_paraula_topic_dins_text[contador]=1\n",
    "            break\n",
    "        else: \n",
    "            vector_paraula_topic_dins_text[contador]=0\n",
    "    contador=contador+1 \n"
   ]
  },
  {
   "cell_type": "code",
   "execution_count": 136,
   "metadata": {
    "collapsed": false
   },
   "outputs": [
    {
     "data": {
      "text/plain": [
       "4285"
      ]
     },
     "execution_count": 136,
     "metadata": {},
     "output_type": "execute_result"
    }
   ],
   "source": [
    "len(vector_paraula_topic_dins_text)"
   ]
  },
  {
   "cell_type": "code",
   "execution_count": 137,
   "metadata": {
    "collapsed": true
   },
   "outputs": [],
   "source": [
    "contador = 0\n",
    "vector_paraula_text_topic = [0]*len(paraules_topic)\n",
    "for paraula_topic in paraules_topic: \n",
    "    for paraula_text in paraula_text0: \n",
    "        if paraula_topic==paraula_text:\n",
    "            vector_paraula_text_topic[contador]=1 \n",
    "            break \n",
    "        else: \n",
    "            vector_paraula_text_topic[contador]=0\n",
    "    contador=contador+1\n"
   ]
  },
  {
   "cell_type": "code",
   "execution_count": 139,
   "metadata": {
    "collapsed": false
   },
   "outputs": [
    {
     "data": {
      "text/plain": [
       "51"
      ]
     },
     "execution_count": 139,
     "metadata": {},
     "output_type": "execute_result"
    }
   ],
   "source": [
    "len(vector_paraula_text_topic)"
   ]
  },
  {
   "cell_type": "code",
   "execution_count": 140,
   "metadata": {
    "collapsed": false
   },
   "outputs": [
    {
     "data": {
      "text/plain": [
       "51"
      ]
     },
     "execution_count": 140,
     "metadata": {},
     "output_type": "execute_result"
    }
   ],
   "source": [
    "len(paraules_topic)"
   ]
  },
  {
   "cell_type": "code",
   "execution_count": 160,
   "metadata": {
    "collapsed": false
   },
   "outputs": [],
   "source": [
    "matriu_paraules_topic_text = list() \n",
    "for index_text in range(data_filtered.shape[0]): \n",
    "    paraula_text0 = data_filtered.iloc[index_text].str.strip()\n",
    "    contador = 0\n",
    "    vector_paraula_text_topic = [0]*len(paraules_topic)\n",
    "    for paraula_topic in paraules_topic: \n",
    "        for paraula_text in paraula_text0: \n",
    "            if paraula_topic==paraula_text:\n",
    "                vector_paraula_text_topic[contador]=1 \n",
    "                break \n",
    "            else: \n",
    "                vector_paraula_text_topic[contador]=0\n",
    "        contador=contador+1\n",
    "\n",
    "    matriu_paraules_topic_text.append(vector_paraula_text_topic)\n",
    "    "
   ]
  },
  {
   "cell_type": "code",
   "execution_count": 161,
   "metadata": {
    "collapsed": false
   },
   "outputs": [],
   "source": [
    "matriu_paraules_binari = pd.DataFrame(matriu_paraules_topic_text, columns=paraules_topic)"
   ]
  },
  {
   "cell_type": "code",
   "execution_count": 162,
   "metadata": {
    "collapsed": false
   },
   "outputs": [
    {
     "data": {
      "text/html": [
       "<div>\n",
       "<table border=\"1\" class=\"dataframe\">\n",
       "  <thead>\n",
       "    <tr style=\"text-align: right;\">\n",
       "      <th></th>\n",
       "      <th>public</th>\n",
       "      <th>provision</th>\n",
       "      <th>article</th>\n",
       "      <th>procedure</th>\n",
       "      <th>administrative</th>\n",
       "      <th>agreement</th>\n",
       "      <th>document</th>\n",
       "      <th>accordance</th>\n",
       "      <th>service</th>\n",
       "      <th>appeal</th>\n",
       "      <th>...</th>\n",
       "      <th>data</th>\n",
       "      <th>file</th>\n",
       "      <th>professional</th>\n",
       "      <th>exercise</th>\n",
       "      <th>information</th>\n",
       "      <th>right</th>\n",
       "      <th>service</th>\n",
       "      <th>address</th>\n",
       "      <th>access</th>\n",
       "      <th>number</th>\n",
       "    </tr>\n",
       "  </thead>\n",
       "  <tbody>\n",
       "    <tr>\n",
       "      <th>0</th>\n",
       "      <td>0</td>\n",
       "      <td>1</td>\n",
       "      <td>0</td>\n",
       "      <td>0</td>\n",
       "      <td>0</td>\n",
       "      <td>1</td>\n",
       "      <td>1</td>\n",
       "      <td>0</td>\n",
       "      <td>1</td>\n",
       "      <td>0</td>\n",
       "      <td>...</td>\n",
       "      <td>0</td>\n",
       "      <td>1</td>\n",
       "      <td>0</td>\n",
       "      <td>0</td>\n",
       "      <td>0</td>\n",
       "      <td>0</td>\n",
       "      <td>1</td>\n",
       "      <td>0</td>\n",
       "      <td>0</td>\n",
       "      <td>0</td>\n",
       "    </tr>\n",
       "    <tr>\n",
       "      <th>1</th>\n",
       "      <td>1</td>\n",
       "      <td>1</td>\n",
       "      <td>1</td>\n",
       "      <td>1</td>\n",
       "      <td>1</td>\n",
       "      <td>1</td>\n",
       "      <td>1</td>\n",
       "      <td>1</td>\n",
       "      <td>1</td>\n",
       "      <td>0</td>\n",
       "      <td>...</td>\n",
       "      <td>1</td>\n",
       "      <td>0</td>\n",
       "      <td>0</td>\n",
       "      <td>1</td>\n",
       "      <td>0</td>\n",
       "      <td>1</td>\n",
       "      <td>1</td>\n",
       "      <td>0</td>\n",
       "      <td>1</td>\n",
       "      <td>0</td>\n",
       "    </tr>\n",
       "    <tr>\n",
       "      <th>2</th>\n",
       "      <td>1</td>\n",
       "      <td>1</td>\n",
       "      <td>1</td>\n",
       "      <td>1</td>\n",
       "      <td>1</td>\n",
       "      <td>1</td>\n",
       "      <td>1</td>\n",
       "      <td>1</td>\n",
       "      <td>0</td>\n",
       "      <td>0</td>\n",
       "      <td>...</td>\n",
       "      <td>1</td>\n",
       "      <td>0</td>\n",
       "      <td>1</td>\n",
       "      <td>1</td>\n",
       "      <td>1</td>\n",
       "      <td>1</td>\n",
       "      <td>0</td>\n",
       "      <td>0</td>\n",
       "      <td>1</td>\n",
       "      <td>1</td>\n",
       "    </tr>\n",
       "    <tr>\n",
       "      <th>3</th>\n",
       "      <td>1</td>\n",
       "      <td>1</td>\n",
       "      <td>1</td>\n",
       "      <td>1</td>\n",
       "      <td>1</td>\n",
       "      <td>1</td>\n",
       "      <td>1</td>\n",
       "      <td>1</td>\n",
       "      <td>1</td>\n",
       "      <td>0</td>\n",
       "      <td>...</td>\n",
       "      <td>1</td>\n",
       "      <td>1</td>\n",
       "      <td>1</td>\n",
       "      <td>1</td>\n",
       "      <td>1</td>\n",
       "      <td>1</td>\n",
       "      <td>1</td>\n",
       "      <td>1</td>\n",
       "      <td>1</td>\n",
       "      <td>1</td>\n",
       "    </tr>\n",
       "    <tr>\n",
       "      <th>4</th>\n",
       "      <td>1</td>\n",
       "      <td>1</td>\n",
       "      <td>0</td>\n",
       "      <td>1</td>\n",
       "      <td>0</td>\n",
       "      <td>1</td>\n",
       "      <td>0</td>\n",
       "      <td>0</td>\n",
       "      <td>1</td>\n",
       "      <td>0</td>\n",
       "      <td>...</td>\n",
       "      <td>1</td>\n",
       "      <td>1</td>\n",
       "      <td>1</td>\n",
       "      <td>1</td>\n",
       "      <td>1</td>\n",
       "      <td>1</td>\n",
       "      <td>1</td>\n",
       "      <td>1</td>\n",
       "      <td>1</td>\n",
       "      <td>1</td>\n",
       "    </tr>\n",
       "  </tbody>\n",
       "</table>\n",
       "<p>5 rows × 51 columns</p>\n",
       "</div>"
      ],
      "text/plain": [
       "   public  provision  article  procedure  administrative  agreement  document  \\\n",
       "0       0          1        0          0               0          1         1   \n",
       "1       1          1        1          1               1          1         1   \n",
       "2       1          1        1          1               1          1         1   \n",
       "3       1          1        1          1               1          1         1   \n",
       "4       1          1        0          1               0          1         0   \n",
       "\n",
       "   accordance  service  appeal   ...    data  file  professional  exercise  \\\n",
       "0           0        1       0   ...       0     1             0         0   \n",
       "1           1        1       0   ...       1     0             0         1   \n",
       "2           1        0       0   ...       1     0             1         1   \n",
       "3           1        1       0   ...       1     1             1         1   \n",
       "4           0        1       0   ...       1     1             1         1   \n",
       "\n",
       "   information  right  service  address  access  number  \n",
       "0            0      0        1        0       0       0  \n",
       "1            0      1        1        0       1       0  \n",
       "2            1      1        0        0       1       1  \n",
       "3            1      1        1        1       1       1  \n",
       "4            1      1        1        1       1       1  \n",
       "\n",
       "[5 rows x 51 columns]"
      ]
     },
     "execution_count": 162,
     "metadata": {},
     "output_type": "execute_result"
    }
   ],
   "source": [
    "matriu_paraules_binari.head()"
   ]
  },
  {
   "cell_type": "code",
   "execution_count": 163,
   "metadata": {
    "collapsed": false
   },
   "outputs": [
    {
     "data": {
      "text/plain": [
       "(204, 51)"
      ]
     },
     "execution_count": 163,
     "metadata": {},
     "output_type": "execute_result"
    }
   ],
   "source": [
    "matriu_paraules_binari.shape"
   ]
  },
  {
   "cell_type": "markdown",
   "metadata": {},
   "source": [
    "## Multiclass classification\n",
    "\n",
    "The strategy that is going to be followed for multiclass is the \"OneVsRestClassifier\". This strategy involves training one single classifier per each class (the positive class) while the rest of the class are labeled as the negative class. The result of each model is a real-valued confidence score, that then can be weighted to determine which final label apply to each sample. \n",
    "\n",
    "We are going to test two different models: \n",
    "\n",
    "- Linear Support Vector Classification (LinearSVC): support vector machine classifier using a lineal kernel. \n",
    "- Logistic regression\n"
   ]
  },
  {
   "cell_type": "code",
   "execution_count": 178,
   "metadata": {
    "collapsed": false
   },
   "outputs": [
    {
     "name": "stdout",
     "output_type": "stream",
     "text": [
      "Matriu:  (204, 51)\n",
      "Vector resposta 204\n"
     ]
    }
   ],
   "source": [
    "X = matriu_paraules_binari\n",
    "y = data.classificacio\n",
    "print 'Matriu: ', X.shape \n",
    "print 'Vector resposta', len(y)"
   ]
  },
  {
   "cell_type": "code",
   "execution_count": 233,
   "metadata": {
    "collapsed": true
   },
   "outputs": [],
   "source": [
    "from sklearn.multiclass import OneVsOneClassifier\n",
    "from sklearn.svm import LinearSVC\n",
    "from sklearn.multiclass import OneVsRestClassifier\n",
    "from sklearn.multiclass import OutputCodeClassifier\n",
    "from sklearn.linear_model import LogisticRegression"
   ]
  },
  {
   "cell_type": "code",
   "execution_count": 240,
   "metadata": {
    "collapsed": false
   },
   "outputs": [
    {
     "name": "stdout",
     "output_type": "stream",
     "text": [
      "0.926829268293\n",
      "0.90243902439\n"
     ]
    }
   ],
   "source": [
    "acc_onevsrest = [0] * 10 \n",
    "acc_logreg = [0] * 10 \n",
    "\n",
    "for i in xrange(10):\n",
    "    X_train, X_test, y_train, y_test = train_test_split(X, y, test_size=0.2,random_state=5)\n",
    "    ##Create the classifier \n",
    "    onevsrest = OneVsRestClassifier(LinearSVC(random_state=0))\n",
    "    logregression = LogisticRegression()\n",
    "    ##Fit on train \n",
    "    onevsrest.fit(X_train,y_train) \n",
    "    logregression.fit(X_train,y_train) \n",
    "\n",
    "    ##Predict on test   \n",
    "    yhat_onevsrest = onevsrest.predict(X_test) \n",
    "    yhat_logreg = logregression.predict(X_test)\n",
    "\n",
    "    acc_onevsrest[i] = metrics.accuracy_score(yhat_onevsrest, y_test)\n",
    "    acc_logreg[i] = metrics.accuracy_score(yhat_logreg, y_test)\n",
    "\n",
    "print np.asarray(acc_onevsrest).mean()\n",
    "print np.asarray(acc_logreg).mean()"
   ]
  },
  {
   "cell_type": "markdown",
   "metadata": {},
   "source": [
    "Comparing both accuracies values for the test set, we can chec that the ones obtained with the LinearSVC is slightly better. Therefore we are going to use this one for the resultsM"
   ]
  },
  {
   "cell_type": "code",
   "execution_count": 241,
   "metadata": {
    "collapsed": false
   },
   "outputs": [
    {
     "name": "stdout",
     "output_type": "stream",
     "text": [
      "classification accuracy: 0.926829268293\n",
      "Classification Report:\n",
      "             precision    recall  f1-score   support\n",
      "\n",
      "          0       0.90      0.82      0.86        11\n",
      "          1       0.87      0.93      0.90        14\n",
      "          2       1.00      1.00      1.00        11\n",
      "          3       1.00      1.00      1.00         2\n",
      "          4       1.00      1.00      1.00         3\n",
      "\n",
      "avg / total       0.93      0.93      0.93        41\n",
      "\n"
     ]
    },
    {
     "data": {
      "image/png": "[encoded data removed]",
      "text/plain": [
       "<matplotlib.figure.Figure at 0x10b2af190>"
      ]
     },
     "metadata": {},
     "output_type": "display_data"
    }
   ],
   "source": [
    "%matplotlib inline\n",
    "from sklearn import metrics\n",
    "import matplotlib.pyplot as plt\n",
    "def plot_confusion_matrix(y_pred, y):\n",
    "    plt.imshow(metrics.confusion_matrix(y, y_pred), interpolation='nearest')\n",
    "    plt.colorbar()\n",
    "    plt.ylabel('true value')\n",
    "    plt.xlabel('predicted value')\n",
    "    fig = plt.gcf()\n",
    "    fig.set_size_inches(9,9)    \n",
    "    \n",
    "print \"classification accuracy:\", metrics.accuracy_score(yhat_onevsrest, y_test)\n",
    "plot_confusion_matrix(yhat_onevsrest, np.array(y_test)) \n",
    "print \"Classification Report:\"\n",
    "print metrics.classification_report(yhat_onevsrest,np.array(y_test))\n"
   ]
  },
  {
   "cell_type": "code",
   "execution_count": 242,
   "metadata": {
    "collapsed": false
   },
   "outputs": [
    {
     "name": "stdout",
     "output_type": "stream",
     "text": [
      "classification accuracy: 0.90243902439\n",
      "Classification Report:\n",
      "             precision    recall  f1-score   support\n",
      "\n",
      "          0       0.70      0.88      0.78         8\n",
      "          1       0.93      0.88      0.90        16\n",
      "          2       1.00      1.00      1.00        11\n",
      "          3       1.00      0.67      0.80         3\n",
      "          4       1.00      1.00      1.00         3\n",
      "\n",
      "avg / total       0.92      0.90      0.90        41\n",
      "\n"
     ]
    },
    {
     "data": {
      "image/png": "[encoded data removed]",
      "text/plain": [
       "<matplotlib.figure.Figure at 0x10f333d90>"
      ]
     },
     "metadata": {},
     "output_type": "display_data"
    }
   ],
   "source": [
    "%matplotlib inline\n",
    "from sklearn import metrics\n",
    "import matplotlib.pyplot as plt\n",
    "def plot_confusion_matrix(y_pred, y):\n",
    "    plt.imshow(metrics.confusion_matrix(y, y_pred), interpolation='nearest')\n",
    "    plt.colorbar()\n",
    "    plt.ylabel('true value')\n",
    "    plt.xlabel('predicted value')\n",
    "    fig = plt.gcf()\n",
    "    fig.set_size_inches(9,9)    \n",
    "    \n",
    "print \"classification accuracy:\", metrics.accuracy_score(yhat_logreg, y_test)\n",
    "plot_confusion_matrix(yhat_logreg, np.array(y_test)) \n",
    "print \"Classification Report:\"\n",
    "print metrics.classification_report(yhat_logreg,np.array(y_test))"
   ]
  },
  {
   "cell_type": "code",
   "execution_count": 247,
   "metadata": {
    "collapsed": false
   },
   "outputs": [],
   "source": [
    "resultats = pd.DataFrame()\n",
    "resultats['y_test'] = y_test \n",
    "resultats['y_hat_onevsall'] = yhat_onevsrest\n",
    "resultats['y_hat_log'] = yhat_logreg\n",
    "resultats.to_csv('resultats_classificacio1_28022916.csv')"
   ]
  },
  {
   "cell_type": "markdown",
   "metadata": {
    "collapsed": true
   },
   "source": [
    "### 3. Results"
   ]
  },
  {
   "cell_type": "markdown",
   "metadata": {},
   "source": [
    "The results can be summarized in the following statements: \n",
    "\n",
    "- If we compare the LinearSVC and the LogisticRegression, we can see that the accuracy is slightly better for the LinearSVC model (with an accuracy of 0.92 on test, over the 0.90 from the LogisticRegression). \n",
    "- Both model show good results across all topics, being the topic 0 the one with lower performance. "
   ]
  },
  {
   "cell_type": "code",
   "execution_count": null,
   "metadata": {
    "collapsed": true
   },
   "outputs": [],
   "source": []
  }
 ],
 "metadata": {
  "kernelspec": {
   "display_name": "Python 2",
   "language": "python",
   "name": "python2"
  },
  "language_info": {
   "codemirror_mode": {
    "name": "ipython",
    "version": 2
   },
   "file_extension": ".py",
   "mimetype": "text/x-python",
   "name": "python",
   "nbconvert_exporter": "python",
   "pygments_lexer": "ipython2",
   "version": "2.7.13"
  }
 },
 "nbformat": 4,
 "nbformat_minor": 0
}
