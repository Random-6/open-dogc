{
 "cells": [
  {
   "cell_type": "markdown",
   "metadata": {},
   "source": [
    "## LDA for document clustering \n",
    "\n",
    "\n",
    "In order to cluster the documents into the different types we will use an LDA (Latent Dirichlet Allocation) as our clustering model. \n",
    "However, before the application of the LDA we need to do some data processing to clean the content of the scrapped dowcuments. \n",
    "\n",
    "The process will be the following: \n",
    "- Import data (.csv) \n",
    "- Tokenitzation (transform information into words) \n",
    "- Remove punctuation marks \n",
    "- Reduce words to root \n",
    "- Build our dictionary \n",
    "- Change all text to one single vector with the count of words\n",
    "- Normalization \n",
    "- Build the final matrix of MxN size (M: number of ducments, N: dictionary length) \n",
    "- Model with LDA and clustering \n"
   ]
  },
  {
   "cell_type": "markdown",
   "metadata": {},
   "source": [
    "## 1. Packages"
   ]
  },
  {
   "cell_type": "code",
   "execution_count": 10,
   "metadata": {
    "collapsed": false
   },
   "outputs": [],
   "source": [
    "#Packages\n",
    "import numpy as np \n",
    "import pandas as pd \n",
    "from nltk.tokenize import word_tokenize\n",
    "import nltk\n",
    "import numpy as np \n",
    "import lda \n",
    "import lda.datasets\n",
    "import matplotlib as plt\n",
    "from textblob import TextBlob"
   ]
  },
  {
   "cell_type": "markdown",
   "metadata": {},
   "source": [
    "## 1. Pre-processar el text \n",
    "\n",
    "1. Import \n",
    "2. Token\n",
    "3. Puntuaction marks removal \n",
    "4. Reduce words to root"
   ]
  },
  {
   "cell_type": "code",
   "execution_count": 11,
   "metadata": {
    "collapsed": false
   },
   "outputs": [
    {
     "data": {
      "text/plain": [
       "(204,)"
      ]
     },
     "execution_count": 11,
     "metadata": {},
     "output_type": "execute_result"
    }
   ],
   "source": [
    "## Load documents \n",
    "data = pd.read_csv('dogc_1.csv',encoding='utf-8')\n",
    "data.head()\n",
    "textos = data.Text\n",
    "textos.shape #Es un array de 204 files per una columna que conté els textos "
   ]
  },
  {
   "cell_type": "code",
   "execution_count": 12,
   "metadata": {
    "collapsed": false
   },
   "outputs": [
    {
     "data": {
      "text/plain": [
       "0    Expedient 5/O/2015. Extinció de les llicències...\n",
       "1    I. L’apartat 5 de l’article 29 de l’Estatut or...\n",
       "2    I L’apartat 5 de l’article 29 de l’Estatut org...\n",
       "3    L'article 20 de la Llei Orgànica 15/99 de 13 d...\n",
       "4    El Col·legi de Dietistes – Nutricionistes de C...\n",
       "Name: Text, dtype: object"
      ]
     },
     "execution_count": 12,
     "metadata": {},
     "output_type": "execute_result"
    }
   ],
   "source": [
    "## Check \n",
    "textos.head()"
   ]
  },
  {
   "cell_type": "code",
   "execution_count": 13,
   "metadata": {
    "collapsed": false,
    "scrolled": false
   },
   "outputs": [],
   "source": [
    "## Translate docs from catalan to english to be able to \n",
    "## use the all-ready made dictionary and functionalities \n",
    "text_translated = []\n",
    "translation = []\n",
    "for text in textos:\n",
    "    text_TextBlob=TextBlob(text)\n",
    "    translation = text_TextBlob.translate(from_lang=\"ca\", to='en')\n",
    "    text_translated.append(translation)"
   ]
  },
  {
   "cell_type": "code",
   "execution_count": 18,
   "metadata": {
    "collapsed": false
   },
   "outputs": [
    {
     "data": {
      "text/plain": [
       "(204,)"
      ]
     },
     "execution_count": 18,
     "metadata": {},
     "output_type": "execute_result"
    }
   ],
   "source": [
    "np.shape(text_translated)"
   ]
  },
  {
   "cell_type": "code",
   "execution_count": 19,
   "metadata": {
    "collapsed": false
   },
   "outputs": [],
   "source": [
    "text_new=[]\n",
    "for text in text_translated:\n",
    "    text2=str(text)\n",
    "    text_new.append(text2)\n",
    "\n",
    "texts=pd.DataFrame(text_new)\n",
    "texts.to_csv('DOGC_english_text.csv',encoding='utf-8')\n",
    "english_texts = pd.read_csv('DOGC_english_text.csv',encoding='utf-8')"
   ]
  },
  {
   "cell_type": "code",
   "execution_count": 20,
   "metadata": {
    "collapsed": false
   },
   "outputs": [
    {
     "data": {
      "text/plain": [
       "0    File 5 / O / 2015. Termination of licenses for...\n",
       "1    I. Section 5 of Article 29 of the Organic Stat...\n",
       "2    I Paragraph 5 of Article 29 of the Organic Sta...\n",
       "3    Article 20 of the Law 15/99 of December 13, Pr...\n",
       "4    The College of Dietitians - Nutritionists Cata...\n",
       "Name: 0, dtype: object"
      ]
     },
     "execution_count": 20,
     "metadata": {},
     "output_type": "execute_result"
    }
   ],
   "source": [
    "english_texts.head()\n",
    "texts_en=english_texts['0']\n",
    "texts_en.head()"
   ]
  },
  {
   "cell_type": "code",
   "execution_count": 8,
   "metadata": {
    "collapsed": false
   },
   "outputs": [
    {
     "data": {
      "text/plain": [
       "204"
      ]
     },
     "execution_count": 8,
     "metadata": {},
     "output_type": "execute_result"
    }
   ],
   "source": [
    "## Tokenize \n",
    "from textblob import TextBlob\n",
    "from nltk.tokenize import TabTokenizer\n",
    "tokenizer = TabTokenizer()\n",
    "tokenized_docs=[]\n",
    "for text in texts_en:\n",
    "    blob = TextBlob(text, tokenizer=tokenizer)\n",
    "    tokenized_docs.append(blob.words)\n",
    "\n",
    "len(tokenized_docs)"
   ]
  },
  {
   "cell_type": "code",
   "execution_count": 9,
   "metadata": {
    "collapsed": false
   },
   "outputs": [
    {
     "data": {
      "text/plain": [
       "'!\"#$%&\\'()*+,-./:;<=>?@[\\\\]^_`{|}~'"
      ]
     },
     "execution_count": 9,
     "metadata": {},
     "output_type": "execute_result"
    }
   ],
   "source": [
    "## Removing puntuation \n",
    "import string\n",
    "string.punctuation"
   ]
  },
  {
   "cell_type": "code",
   "execution_count": 10,
   "metadata": {
    "collapsed": false
   },
   "outputs": [
    {
     "data": {
      "text/plain": [
       "204"
      ]
     },
     "execution_count": 10,
     "metadata": {},
     "output_type": "execute_result"
    }
   ],
   "source": [
    "import re\n",
    "import string\n",
    "regex = re.compile('[%s]' % re.escape(string.punctuation)) \n",
    "\n",
    "tokenized_docs_no_punctuation = []\n",
    "\n",
    "for review in tokenized_docs:\n",
    "    \n",
    "    new_review = []\n",
    "    for token in review: \n",
    "        new_token = regex.sub(u'', token)\n",
    "        if not new_token == u'':\n",
    "            new_review.append(new_token)\n",
    "    \n",
    "    tokenized_docs_no_punctuation.append(new_review)\n",
    "    \n",
    "len(tokenized_docs_no_punctuation)"
   ]
  },
  {
   "cell_type": "code",
   "execution_count": 11,
   "metadata": {
    "collapsed": false
   },
   "outputs": [
    {
     "name": "stdout",
     "output_type": "stream",
     "text": [
      "(204L,)\n"
     ]
    },
    {
     "data": {
      "text/plain": [
       "[u'File',\n",
       " u'2015',\n",
       " u'Termination',\n",
       " u'licenses',\n",
       " u'for',\n",
       " u'the',\n",
       " u'provision',\n",
       " u'digital',\n",
       " u'terrestrial',\n",
       " u'television']"
      ]
     },
     "execution_count": 11,
     "metadata": {},
     "output_type": "execute_result"
    }
   ],
   "source": [
    "# Remove numbers and short words \n",
    "non_short_words=[]\n",
    "for text in tokenized_docs_no_punctuation:  \n",
    "    new_text3 = []\n",
    "    for token in text:\n",
    "        if len(token) >= 3:\n",
    "            new_text3.append(token)\n",
    "    non_short_words.append(new_text3)\n",
    "\n",
    "print np.shape(non_short_words)\n",
    "non_short_words[0][0:10]"
   ]
  },
  {
   "cell_type": "code",
   "execution_count": 12,
   "metadata": {
    "collapsed": false
   },
   "outputs": [],
   "source": [
    "# Lemmatitzar\n",
    "from textblob import Word\n",
    "\n",
    "preprocessed_docs = []\n",
    "for doc in non_short_words:\n",
    "    final_doc = []\n",
    "    for word in doc:\n",
    "        w=Word(word)\n",
    "        final_doc.append(w.lemmatize())\n",
    "    preprocessed_docs.append(final_doc)"
   ]
  },
  {
   "cell_type": "code",
   "execution_count": 13,
   "metadata": {
    "collapsed": false
   },
   "outputs": [
    {
     "name": "stdout",
     "output_type": "stream",
     "text": [
      "[u'5', u'O', u'2015', u'Termination', u'of', u'licenses', u'for', u'the', u'provision', u'of', u'digital', u'terrestrial', u'television', u'broadcasting', u'local', u'corresponding', u'to', u'the', u'districts', u'of', u'Cornella', u'de', u'Llobregat', u'and', u'Tarragona', u'resignation', u'of', u'the', u'holder', u'society', u'Tele', u'Taxi', u'Digital', u'Television', u'SLU', u'Since', u'the', u'company', u'Tele', u'Taxi', u'Television', u'Digital', u'SLU', u'represented', u'by', u'Mr', u'Justo', u'Molinero', u'Calero', u'presented', u'a', u'letter', u'and', u'other', u'documents', u'which', u'formalize', u'the', u'renunciation', u'of', u'licenses', u'for', u'the', u'provision', u'of', u'broadcasting', u'digital', u'terrestrial', u'television', u'd', u'local', u'level', u'corresponding', u'to', u'the', u'districts', u'of', u'Cornella', u'de', u'Llobregat', u'and', u'Tarragona', u'this', u'Council', u'should', u'proceed', u'to', u'declare', u'them', u'extinguished', u'and', u'inscriuren', u'downward', u'titles', u'registry', u'service', u'providers', u'audiovisual', u'communication']\n",
      "\n",
      "\n",
      "[u'2015', u'Termination', u'license', u'for', u'the', u'provision', u'digital', u'terrestrial', u'television', u'broadcasting', u'local', u'corresponding', u'the', u'district', u'Cornella', u'Llobregat', u'and', u'Tarragona', u'resignation', u'the', u'holder', u'society', u'Tele', u'Taxi', u'Digital', u'Television', u'SLU', u'Since', u'the', u'company', u'Tele', u'Taxi', u'Television', u'Digital', u'SLU', u'represented', u'Justo', u'Molinero', u'Calero', u'presented', u'letter', u'and', u'other', u'document', u'which', u'formalize', u'the', u'renunciation', u'license', u'for', u'the', u'provision', u'broadcasting', u'digital', u'terrestrial', u'television', u'local', u'level', u'corresponding', u'the', u'district', u'Cornella', u'Llobregat', u'and', u'Tarragona', u'this', u'Council', u'should', u'proceed', u'declare', u'them', u'extinguished', u'and', u'inscriuren', u'downward', u'title', u'registry', u'service', u'provider', u'audiovisual', u'communication', u'Catalonia', u'The', u'Plenum', u'the', u'Broadcasting', u'Council', u'Catalonia', u'adopted', u'unanimously', u'the', u'following', u'agreement', u'Accepted', u'the', u'resignation', u'the', u'company', u'Television']\n"
     ]
    }
   ],
   "source": [
    "print tokenized_docs_no_punctuation[0][1:100]\n",
    "print '\\n\\n', preprocessed_docs[0][1:100]"
   ]
  },
  {
   "cell_type": "code",
   "execution_count": 14,
   "metadata": {
    "collapsed": true
   },
   "outputs": [],
   "source": [
    "## To lower case \n",
    "new_preprocessed_docs=[]\n",
    "for doc in preprocessed_docs:\n",
    "    doc_nl=[]\n",
    "    for word in doc:\n",
    "        word2=word.lower()\n",
    "        doc_nl.append(word2)\n",
    "    new_preprocessed_docs.append(doc_nl)"
   ]
  },
  {
   "cell_type": "code",
   "execution_count": 15,
   "metadata": {
    "collapsed": false
   },
   "outputs": [],
   "source": [
    "## Remove empty information words \n",
    "new_preprocessed_docs2=[]\n",
    "for doc in new_preprocessed_docs:\n",
    "    filtered = [ v for v in doc if not v.startswith('the') ]\n",
    "    new_preprocessed_docs2.append(filtered)"
   ]
  },
  {
   "cell_type": "code",
   "execution_count": 112,
   "metadata": {
    "collapsed": false
   },
   "outputs": [],
   "source": [
    "## Manera manual pero que va be\n",
    "new_preprocessed_docs39=[]\n",
    "for doc in new_preprocessed_docs38:\n",
    "    filtered = [ v for v in doc if not v.startswith('who') ] #anar canviant la paraula i el numero del doc\n",
    "    new_preprocessed_docs39.append(filtered)"
   ]
  },
  {
   "cell_type": "code",
   "execution_count": 113,
   "metadata": {
    "collapsed": false
   },
   "outputs": [
    {
     "name": "stdout",
     "output_type": "stream",
     "text": [
      "\n",
      "\n",
      "[u'provision', u'article', u'organic', u'statute', u'functioning', u'council', u'selection', u'organization', u'staff', u'whereas', u'agreement', u'plenary', u'council', u'december', u'2000', u'approved', u'classification', u'job', u'size', u'staff', u'council', u'subsequent', u'resolution', u'amend', u'update', u'list', u'post', u'work', u'dated', u'january', u'february', u'march', u'2001', u'february', u'september', u'2002', u'february', u'october', u'2003', u'november', u'2004', u'regard', u'favorable', u'report', u'comptroller', u'audiovisual', u'council', u'proposal', u'secretarygeneral', u'adopted', u'following', u'resolution', u'approve', u'job', u'offer', u'public', u'broadcasting', u'council', u'year', u'2005', u'place', u'listed', u'annex', u'agreement', u'offer', u'public', u'employment', u'vacancy', u'mentioned', u'include', u'provision', u'equipped', u'budget', u'year', u'considered', u'necessary', u'proper', u'operation', u'service', u'expense', u'arising', u'provision', u'job', u'budget', u'audiovisual', u'council', u'year', u'2005', u'set', u'limitation', u'exclusion', u'mental', u'physical', u'sensory', u'disability', u'treated', u'assumption', u'incompatible', u'development']\n"
     ]
    }
   ],
   "source": [
    "print '\\n\\n', new_preprocessed_docs39[200][1:100]"
   ]
  },
  {
   "cell_type": "markdown",
   "metadata": {},
   "source": [
    "## 2. Dictionary"
   ]
  },
  {
   "cell_type": "code",
   "execution_count": 70,
   "metadata": {
    "collapsed": false
   },
   "outputs": [],
   "source": [
    "## Build Dictionary \n",
    "import string \n",
    "    \n",
    "def build_lexicon(corpus): # define a set with all possible words included in all the sentences or \"corpus\"\n",
    "    lexicon = set()\n",
    "    for doc in corpus:\n",
    "        lexicon.update(word for word in doc)\n",
    "    return lexicon\n",
    "\n",
    "def tf(term, document):\n",
    "  return freq(term, document)\n",
    "\n",
    "def freq(term, document):\n",
    "  return document.split().count(term)\n"
   ]
  },
  {
   "cell_type": "code",
   "execution_count": 115,
   "metadata": {
    "collapsed": false
   },
   "outputs": [],
   "source": [
    "vocabulary = build_lexicon(new_preprocessed_docs39)"
   ]
  },
  {
   "cell_type": "code",
   "execution_count": 114,
   "metadata": {
    "collapsed": true
   },
   "outputs": [],
   "source": [
    "texts_39=pd.DataFrame(new_preprocessed_docs39)\n",
    "texts_39.to_csv('DOGC_english_text_filtered.csv',encoding='utf-8')"
   ]
  },
  {
   "cell_type": "code",
   "execution_count": 116,
   "metadata": {
    "collapsed": false
   },
   "outputs": [
    {
     "data": {
      "text/plain": [
       "7669"
      ]
     },
     "execution_count": 116,
     "metadata": {},
     "output_type": "execute_result"
    }
   ],
   "source": [
    "len(vocabulary)"
   ]
  },
  {
   "cell_type": "code",
   "execution_count": 117,
   "metadata": {
    "collapsed": false
   },
   "outputs": [],
   "source": [
    "pattern=r'[0-9]'\n",
    "vocabulary_nonumeric = list()\n",
    "for word in vocabulary: \n",
    "    match = re.search(pattern, word)\n",
    "    if not match:\n",
    "        vocabulary_nonumeric.append(word)"
   ]
  },
  {
   "cell_type": "code",
   "execution_count": 118,
   "metadata": {
    "collapsed": false
   },
   "outputs": [
    {
     "data": {
      "text/plain": [
       "6493"
      ]
     },
     "execution_count": 118,
     "metadata": {},
     "output_type": "execute_result"
    }
   ],
   "source": [
    "len(vocabulary_nonumeric)"
   ]
  },
  {
   "cell_type": "code",
   "execution_count": 119,
   "metadata": {
    "collapsed": false
   },
   "outputs": [],
   "source": [
    "vocabulary_big = list()\n",
    "for word in vocabulary_nonumeric: \n",
    "    if len(word)>=3: \n",
    "        vocabulary_big.append(word)"
   ]
  },
  {
   "cell_type": "code",
   "execution_count": 120,
   "metadata": {
    "collapsed": false
   },
   "outputs": [
    {
     "data": {
      "text/plain": [
       "(6478L,)"
      ]
     },
     "execution_count": 120,
     "metadata": {},
     "output_type": "execute_result"
    }
   ],
   "source": [
    "vocabulary_array = np.unique(vocabulary_big)\n",
    "vocabulary_array.shape"
   ]
  },
  {
   "cell_type": "code",
   "execution_count": 121,
   "metadata": {
    "collapsed": false
   },
   "outputs": [],
   "source": [
    "def tf(term, document):\n",
    "  return freq(term, document)\n",
    "\n",
    "def freq(term, document):\n",
    "  return document.count(term)\n",
    "\n",
    "doc_term_matrix = []\n",
    "for doc in preprocessed_docs:\n",
    "    #print 'The doc is \"' + doc + '\"'\n",
    "    tf_vector = [tf(word, doc) for word in vocabulary_array]\n",
    "    tf_vector_string = ', '.join(format(freq, 'd') for freq in tf_vector)\n",
    "    #print 'The tf vector for Document %d is [%s]' % ((DOGC_text.index(doc)+1), tf_vector_string)\n",
    "    doc_term_matrix.append(tf_vector)"
   ]
  },
  {
   "cell_type": "code",
   "execution_count": 79,
   "metadata": {
    "collapsed": false
   },
   "outputs": [
    {
     "data": {
      "text/plain": [
       "204"
      ]
     },
     "execution_count": 79,
     "metadata": {},
     "output_type": "execute_result"
    }
   ],
   "source": [
    "len(doc_term_matrix)"
   ]
  },
  {
   "cell_type": "code",
   "execution_count": 122,
   "metadata": {
    "collapsed": true
   },
   "outputs": [],
   "source": [
    "##Normalitzem la matriu \n",
    "import math\n",
    "import numpy as np\n",
    "\n",
    "def l2_normalizer(vec):\n",
    "    denom = np.sum([el**2 for el in vec])\n",
    "    return [(el / math.sqrt(denom)) for el in vec]\n",
    "\n",
    "doc_term_matrix_l2 = []\n",
    "for vec in doc_term_matrix:\n",
    "    doc_term_matrix_l2.append(l2_normalizer(vec))"
   ]
  },
  {
   "cell_type": "code",
   "execution_count": 123,
   "metadata": {
    "collapsed": false
   },
   "outputs": [
    {
     "name": "stdout",
     "output_type": "stream",
     "text": [
      "Shape sense norm:  (204L, 6478L)\n",
      "Shape amb norm:  (204L, 6478L)\n"
     ]
    }
   ],
   "source": [
    "print 'Shape sense norm: ', np.shape(doc_term_matrix)\n",
    "print 'Shape amb norm: ', np.shape(doc_term_matrix_l2)"
   ]
  },
  {
   "cell_type": "code",
   "execution_count": 124,
   "metadata": {
    "collapsed": false
   },
   "outputs": [
    {
     "data": {
      "text/plain": [
       "(204L, 6478L)"
      ]
     },
     "execution_count": 124,
     "metadata": {},
     "output_type": "execute_result"
    }
   ],
   "source": [
    "type(doc_term_matrix_l2)\n",
    "doc_matrix = np.asarray(doc_term_matrix_l2)\n",
    "doc_matrix.shape"
   ]
  },
  {
   "cell_type": "markdown",
   "metadata": {},
   "source": [
    "-----------\n",
    "\n",
    "## LDA \n",
    "\n",
    "Use LDA (Latent Dirichlet Allocation) with the normalized matrix"
   ]
  },
  {
   "cell_type": "code",
   "execution_count": 125,
   "metadata": {
    "collapsed": true
   },
   "outputs": [],
   "source": [
    "X = np.copy(doc_term_matrix)"
   ]
  },
  {
   "cell_type": "code",
   "execution_count": 138,
   "metadata": {
    "collapsed": false
   },
   "outputs": [
    {
     "name": "stdout",
     "output_type": "stream",
     "text": [
      "Exemple vocab:  [u'accedir' u'accept' u'acceptance' u'accepted' u'accepts' u'access'\n",
      " u'accessed' u'accessibility' u'accessible' u'accessing']\n",
      "Exemple titles:  File 5 / O / 2015. Termination of licenses for the provision of digital terrestrial television broad\n",
      "Mida vocab:  6478\n",
      "Mida titles:  204\n"
     ]
    }
   ],
   "source": [
    "#Afagem vocab i titles \n",
    "vocab = vocabulary_array\n",
    "print 'Exemple vocab: ', vocab[30:40] #Nom de les columnes (bàsicament definiran els vectors binomics)\n",
    "\n",
    "titles = text_translated #Nom de les mostres (títols del text que contenen le sparaules) \n",
    "print 'Exemple titles: ', titles[0][0:100]\n",
    "print 'Mida vocab: ', len(vocab) \n",
    "print 'Mida titles: ', len(titles)"
   ]
  },
  {
   "cell_type": "code",
   "execution_count": 127,
   "metadata": {
    "collapsed": true
   },
   "outputs": [],
   "source": [
    "model = lda.LDA(n_topics=5, n_iter=1500, random_state=1) ## 5 topics "
   ]
  },
  {
   "cell_type": "code",
   "execution_count": 128,
   "metadata": {
    "collapsed": false
   },
   "outputs": [
    {
     "name": "stderr",
     "output_type": "stream",
     "text": [
      "WARNING:lda:all zero column in document-term matrix found\n"
     ]
    },
    {
     "data": {
      "text/plain": [
       "<lda.lda.LDA instance at 0x0000000026E1BF88>"
      ]
     },
     "execution_count": 128,
     "metadata": {},
     "output_type": "execute_result"
    }
   ],
   "source": [
    "model.fit(X)"
   ]
  },
  {
   "cell_type": "code",
   "execution_count": 129,
   "metadata": {
    "collapsed": false
   },
   "outputs": [
    {
     "name": "stdout",
     "output_type": "stream",
     "text": [
      "1.0\n"
     ]
    }
   ],
   "source": [
    "##Topic word\n",
    "topic_word=model.topic_word_\n",
    "print topic_word[1,:].sum()"
   ]
  },
  {
   "cell_type": "code",
   "execution_count": 133,
   "metadata": {
    "collapsed": false
   },
   "outputs": [
    {
     "name": "stdout",
     "output_type": "stream",
     "text": [
      "Topic  0 :  [u'public' u'provision' u'article' u'procedure' u'administrative'\n",
      " u'agreement' u'document' u'accordance' u'service' u'appeal']\n",
      "Topic  1 :  [u'staff' u'function' u'job' u'management' u'service' u'approved' u'care'\n",
      " u'provision' u'member' u'accordance']\n",
      "Topic  2 :  [u'prize' u'school' u'research' u'work' u'audiovisual' u'award' u'jury'\n",
      " u'euro' u'communication' u'grant']\n",
      "Topic  3 :  [u'test' u'selection' u'court' u'public' u'board' u'applicant' u'call'\n",
      " u'exercise' u'process' u'place']\n",
      "Topic  4 :  [u'data' u'file' u'professional' u'exercise' u'information' u'right'\n",
      " u'service' u'address' u'access' u'number']\n"
     ]
    }
   ],
   "source": [
    "n_top_words = 10 #Definim el nombre màxim de paraules\n",
    "topics = list()\n",
    "#Serveix per treure les 10 paraules més importants de cada topic \n",
    "for i, topic_dist in enumerate(topic_word):\n",
    "    topic_words = np.array(vocab)[np.argsort(topic_dist)][:-(n_top_words+1):-1]\n",
    "    topics.append(topic_words)\n",
    "    print'Topic ',i,': ',topic_words"
   ]
  },
  {
   "cell_type": "code",
   "execution_count": 131,
   "metadata": {
    "collapsed": false
   },
   "outputs": [
    {
     "name": "stdout",
     "output_type": "stream",
     "text": [
      "Topic  0 :  [u'public' u'provision' u'article' u'procedure' u'administrative'\n",
      " u'agreement' u'document' u'accordance' u'service' u'appeal' u'legal'\n",
      " u'resolution' u'contract' u'month' u'administration' u'case'\n",
      " u'corresponding' u'established' u'body' u'broadcasting' u'vote'\n",
      " u'publication' u'law' u'day' u'into' u'term' u'following' u'general'\n",
      " u'decision' u'two']\n",
      "Topic  1 :  [u'staff' u'function' u'job' u'management' u'service' u'approved' u'care'\n",
      " u'provision' u'member' u'accordance' u'agreement' u'health' u'following'\n",
      " u'primary' u'structure' u'temporary' u'effect' u'director'\n",
      " u'organizational' u'proposal' u'adopted' u'body' u'approving'\n",
      " u'administrative' u'functioning' u'assigned' u'rule' u'professional'\n",
      " u'published' u'article']\n",
      "Topic  2 :  [u'prize' u'school' u'research' u'work' u'audiovisual' u'award' u'jury'\n",
      " u'euro' u'communication' u'grant' u'education' u'following' u'right'\n",
      " u'author' u'project' u'rule' u'broadcasting' u'public' u'published'\n",
      " u'cash' u'student' u'awarded' u'verdict' u'application' u'call'\n",
      " u'presented' u'submitted' u'accordance' u'field' u'cycle']\n",
      "Topic  3 :  [u'test' u'selection' u'court' u'public' u'board' u'applicant' u'call'\n",
      " u'exercise' u'process' u'place' u'certificate' u'day' u'point' u'member'\n",
      " u'language' u'time' u'necessary' u'job' u'knowledge' u'phase' u'provision'\n",
      " u'access' u'also' u'made' u'examination' u'list' u'shall' u'merit' u'been'\n",
      " u'accordance']\n",
      "Topic  4 :  [u'data' u'file' u'professional' u'exercise' u'information' u'right'\n",
      " u'service' u'address' u'access' u'number' u'transfer' u'public'\n",
      " u'provided' u'activity' u'name' u'detail' u'opposition' u'rectification'\n",
      " u'system' u'included' u'treatment' u'dades' u'purpose' u'association'\n",
      " u'used' u'collection' u'training' u'responsible' u'signature'\n",
      " u'registration']\n"
     ]
    }
   ],
   "source": [
    "n_top_words = 30 #Definim el nombre màxim de paraules\n",
    "topics = list()\n",
    "#Serveix per treure les 10 paraules més importants de cada topic \n",
    "for i, topic_dist in enumerate(topic_word):\n",
    "    topic_words = np.array(vocab)[np.argsort(topic_dist)][:-(n_top_words+1):-1]\n",
    "    topics.append(topic_words)\n",
    "    print'Topic ',i,': ',topic_words"
   ]
  },
  {
   "cell_type": "code",
   "execution_count": 134,
   "metadata": {
    "collapsed": false
   },
   "outputs": [
    {
     "data": {
      "text/html": [
       "<div>\n",
       "<table border=\"1\" class=\"dataframe\">\n",
       "  <thead>\n",
       "    <tr style=\"text-align: right;\">\n",
       "      <th></th>\n",
       "      <th>0</th>\n",
       "      <th>1</th>\n",
       "      <th>2</th>\n",
       "      <th>3</th>\n",
       "      <th>4</th>\n",
       "      <th>5</th>\n",
       "      <th>6</th>\n",
       "      <th>7</th>\n",
       "      <th>8</th>\n",
       "      <th>9</th>\n",
       "    </tr>\n",
       "  </thead>\n",
       "  <tbody>\n",
       "    <tr>\n",
       "      <th>0</th>\n",
       "      <td>public</td>\n",
       "      <td>provision</td>\n",
       "      <td>article</td>\n",
       "      <td>procedure</td>\n",
       "      <td>administrative</td>\n",
       "      <td>agreement</td>\n",
       "      <td>document</td>\n",
       "      <td>accordance</td>\n",
       "      <td>service</td>\n",
       "      <td>appeal</td>\n",
       "    </tr>\n",
       "    <tr>\n",
       "      <th>1</th>\n",
       "      <td>staff</td>\n",
       "      <td>function</td>\n",
       "      <td>job</td>\n",
       "      <td>management</td>\n",
       "      <td>service</td>\n",
       "      <td>approved</td>\n",
       "      <td>care</td>\n",
       "      <td>provision</td>\n",
       "      <td>member</td>\n",
       "      <td>accordance</td>\n",
       "    </tr>\n",
       "    <tr>\n",
       "      <th>2</th>\n",
       "      <td>prize</td>\n",
       "      <td>school</td>\n",
       "      <td>research</td>\n",
       "      <td>work</td>\n",
       "      <td>audiovisual</td>\n",
       "      <td>award</td>\n",
       "      <td>jury</td>\n",
       "      <td>euro</td>\n",
       "      <td>communication</td>\n",
       "      <td>grant</td>\n",
       "    </tr>\n",
       "    <tr>\n",
       "      <th>3</th>\n",
       "      <td>test</td>\n",
       "      <td>selection</td>\n",
       "      <td>court</td>\n",
       "      <td>public</td>\n",
       "      <td>board</td>\n",
       "      <td>applicant</td>\n",
       "      <td>call</td>\n",
       "      <td>exercise</td>\n",
       "      <td>process</td>\n",
       "      <td>place</td>\n",
       "    </tr>\n",
       "    <tr>\n",
       "      <th>4</th>\n",
       "      <td>data</td>\n",
       "      <td>file</td>\n",
       "      <td>professional</td>\n",
       "      <td>exercise</td>\n",
       "      <td>information</td>\n",
       "      <td>right</td>\n",
       "      <td>service</td>\n",
       "      <td>address</td>\n",
       "      <td>access</td>\n",
       "      <td>number</td>\n",
       "    </tr>\n",
       "  </tbody>\n",
       "</table>\n",
       "</div>"
      ],
      "text/plain": [
       "        0          1             2           3               4          5  \\\n",
       "0  public  provision       article   procedure  administrative  agreement   \n",
       "1   staff   function           job  management         service   approved   \n",
       "2   prize     school      research        work     audiovisual      award   \n",
       "3    test  selection         court      public           board  applicant   \n",
       "4    data       file  professional    exercise     information      right   \n",
       "\n",
       "          6           7              8           9  \n",
       "0  document  accordance        service      appeal  \n",
       "1      care   provision         member  accordance  \n",
       "2      jury        euro  communication       grant  \n",
       "3      call    exercise        process       place  \n",
       "4   service     address         access      number  "
      ]
     },
     "execution_count": 134,
     "metadata": {},
     "output_type": "execute_result"
    }
   ],
   "source": [
    "topics = pd.DataFrame(topics)\n",
    "topics.head()"
   ]
  },
  {
   "cell_type": "code",
   "execution_count": 139,
   "metadata": {
    "collapsed": false
   },
   "outputs": [
    {
     "name": "stdout",
     "output_type": "stream",
     "text": [
      "Topic:  0 \n",
      "Text:  File 5 / O / 2015. Termination of licenses for the provision of digital terrestrial television broad\n",
      "Topic:  2 \n",
      "Text:  I. Section 5 of Article 29 of the Organic Statute and functioning of the Audiovisual Council of Cata\n",
      "Topic:  2 \n",
      "Text:  I Paragraph 5 of Article 29 of the Organic Statute and functioning of the Audiovisual Council of Cat\n",
      "Topic:  4 \n",
      "Text:  Article 20 of the Law 15/99 of December 13, Protection of Personal Data (Act), states that the creat\n",
      "Topic:  4 \n",
      "Text:  The College of Dietitians - Nutritionists Catalonia, for the exercise of its powers and functions re\n"
     ]
    }
   ],
   "source": [
    "#També es pot treure els topis dels documents \n",
    "doc_topic = model.doc_topic_ #Igual que l'anterior, una matriu amb el nombre de topics per cada títol\n",
    "#cada topic té un pes i el que té major pes serà el que definirà el document. \n",
    "for i in range(5):\n",
    "    print 'Topic: ', doc_topic[i].argmax(), '\\nText: ', titles[i][0:100]"
   ]
  },
  {
   "cell_type": "code",
   "execution_count": 140,
   "metadata": {
    "collapsed": false
   },
   "outputs": [],
   "source": [
    "classificacio = list() \n",
    "for i in range(doc_topic.shape[0]): \n",
    "    classificacio.append(doc_topic[i].argmax())"
   ]
  },
  {
   "cell_type": "code",
   "execution_count": 141,
   "metadata": {
    "collapsed": true
   },
   "outputs": [],
   "source": [
    "#Afegir nova columna amb la classificació\n",
    "data['classificacio']=classificacio"
   ]
  },
  {
   "cell_type": "code",
   "execution_count": 142,
   "metadata": {
    "collapsed": false
   },
   "outputs": [],
   "source": [
    "#Guardar taules importants\n",
    "classificacio = pd.DataFrame(classificacio)\n",
    "#titles.to_csv('titles_i_class_21022016.csv',encoding='utf-8')\n",
    "topics.to_csv('topics_27022016.csv', encoding='utf-8')\n",
    "data.to_csv('data_angles_classificat_27022016.csv',encoding='utf-8')"
   ]
  },
  {
   "cell_type": "code",
   "execution_count": 145,
   "metadata": {
    "collapsed": true
   },
   "outputs": [],
   "source": [
    "data=pd.read_csv('data_angles_classificat_27022016.csv',encoding='utf-8')"
   ]
  },
  {
   "cell_type": "code",
   "execution_count": 146,
   "metadata": {
    "collapsed": false
   },
   "outputs": [
    {
     "data": {
      "text/html": [
       "<div>\n",
       "<table border=\"1\" class=\"dataframe\">\n",
       "  <thead>\n",
       "    <tr style=\"text-align: right;\">\n",
       "      <th></th>\n",
       "      <th>Unnamed: 0</th>\n",
       "      <th>Unnamed: 0.1</th>\n",
       "      <th>Area</th>\n",
       "      <th>Cerca</th>\n",
       "      <th>Data del document</th>\n",
       "      <th>Identificador</th>\n",
       "      <th>Organisme Emisor</th>\n",
       "      <th>Text</th>\n",
       "      <th>Tipus Document</th>\n",
       "      <th>Titol</th>\n",
       "      <th>URL</th>\n",
       "      <th>_id</th>\n",
       "      <th>classificacio</th>\n",
       "    </tr>\n",
       "  </thead>\n",
       "  <tbody>\n",
       "    <tr>\n",
       "      <th>0</th>\n",
       "      <td>0</td>\n",
       "      <td>0</td>\n",
       "      <td>ACORD</td>\n",
       "      <td>Acord</td>\n",
       "      <td>18/11/2015</td>\n",
       "      <td>147_2015</td>\n",
       "      <td>Consell de l'Audiovisual de Catalunya</td>\n",
       "      <td>Expedient 5/O/2015. Extinció de les llicències...</td>\n",
       "      <td>Acord</td>\n",
       "      <td>ACORD 147/2015, de 18 de novembre, del Ple del...</td>\n",
       "      <td>http://dogc.gencat.cat/ca/pdogc_canals_interns...</td>\n",
       "      <td>56bf19249a603e040a683e50</td>\n",
       "      <td>0</td>\n",
       "    </tr>\n",
       "    <tr>\n",
       "      <th>1</th>\n",
       "      <td>1</td>\n",
       "      <td>1</td>\n",
       "      <td>ACORD</td>\n",
       "      <td>Acord</td>\n",
       "      <td>18/11/2015</td>\n",
       "      <td>145_2015</td>\n",
       "      <td>Consell de l'Audiovisual de Catalunya</td>\n",
       "      <td>I. L’apartat 5 de l’article 29 de l’Estatut or...</td>\n",
       "      <td>Acord</td>\n",
       "      <td>ACORD 145/2015, de 18 de novembre, del Ple del...</td>\n",
       "      <td>http://dogc.gencat.cat/ca/pdogc_canals_interns...</td>\n",
       "      <td>56bf192b9a603e040a683e51</td>\n",
       "      <td>2</td>\n",
       "    </tr>\n",
       "    <tr>\n",
       "      <th>2</th>\n",
       "      <td>2</td>\n",
       "      <td>2</td>\n",
       "      <td>ACORD</td>\n",
       "      <td>Acord</td>\n",
       "      <td>18/11/2015</td>\n",
       "      <td>146_2015</td>\n",
       "      <td>Consell de l'Audiovisual de Catalunya</td>\n",
       "      <td>I L’apartat 5 de l’article 29 de l’Estatut org...</td>\n",
       "      <td>Acord</td>\n",
       "      <td>ACORD 146/2015, de 18 de novembre, del Ple del...</td>\n",
       "      <td>http://dogc.gencat.cat/ca/pdogc_canals_interns...</td>\n",
       "      <td>56bf19349a603e040a683e52</td>\n",
       "      <td>2</td>\n",
       "    </tr>\n",
       "    <tr>\n",
       "      <th>3</th>\n",
       "      <td>3</td>\n",
       "      <td>3</td>\n",
       "      <td>ACORD</td>\n",
       "      <td>Acord</td>\n",
       "      <td>04/11/2015</td>\n",
       "      <td>sobre la creació i supressió de fitxers de dad...</td>\n",
       "      <td>Col·legi d'Economistes de Catalunya</td>\n",
       "      <td>L'article 20 de la Llei Orgànica 15/99 de 13 d...</td>\n",
       "      <td>Acord</td>\n",
       "      <td>ACORD sobre la creació i supressió de fitxers ...</td>\n",
       "      <td>http://dogc.gencat.cat/ca/pdogc_canals_interns...</td>\n",
       "      <td>56bf19419a603e040a683e53</td>\n",
       "      <td>4</td>\n",
       "    </tr>\n",
       "    <tr>\n",
       "      <th>4</th>\n",
       "      <td>4</td>\n",
       "      <td>4</td>\n",
       "      <td>ACORD</td>\n",
       "      <td>Acord</td>\n",
       "      <td>10/11/2015</td>\n",
       "      <td>sobre creació d'un fitxer públic que conté dad...</td>\n",
       "      <td>Col·legi de Dietistes-Nutricionistes de Catalunya</td>\n",
       "      <td>El Col·legi de Dietistes – Nutricionistes de C...</td>\n",
       "      <td>Acord</td>\n",
       "      <td>ACORD sobre creació d'un fitxer públic que con...</td>\n",
       "      <td>http://dogc.gencat.cat/ca/pdogc_canals_interns...</td>\n",
       "      <td>56bf194b9a603e040a683e54</td>\n",
       "      <td>4</td>\n",
       "    </tr>\n",
       "  </tbody>\n",
       "</table>\n",
       "</div>"
      ],
      "text/plain": [
       "   Unnamed: 0  Unnamed: 0.1   Area   Cerca Data del document  \\\n",
       "0           0             0  ACORD  Acord         18/11/2015   \n",
       "1           1             1  ACORD  Acord         18/11/2015   \n",
       "2           2             2  ACORD  Acord         18/11/2015   \n",
       "3           3             3  ACORD  Acord         04/11/2015   \n",
       "4           4             4  ACORD  Acord         10/11/2015   \n",
       "\n",
       "                                       Identificador  \\\n",
       "0                                          147_2015    \n",
       "1                                          145_2015    \n",
       "2                                          146_2015    \n",
       "3  sobre la creació i supressió de fitxers de dad...   \n",
       "4  sobre creació d'un fitxer públic que conté dad...   \n",
       "\n",
       "                                    Organisme Emisor  \\\n",
       "0              Consell de l'Audiovisual de Catalunya   \n",
       "1              Consell de l'Audiovisual de Catalunya   \n",
       "2              Consell de l'Audiovisual de Catalunya   \n",
       "3                Col·legi d'Economistes de Catalunya   \n",
       "4  Col·legi de Dietistes-Nutricionistes de Catalunya   \n",
       "\n",
       "                                                Text Tipus Document  \\\n",
       "0  Expedient 5/O/2015. Extinció de les llicències...          Acord   \n",
       "1  I. L’apartat 5 de l’article 29 de l’Estatut or...          Acord   \n",
       "2  I L’apartat 5 de l’article 29 de l’Estatut org...          Acord   \n",
       "3  L'article 20 de la Llei Orgànica 15/99 de 13 d...          Acord   \n",
       "4  El Col·legi de Dietistes – Nutricionistes de C...          Acord   \n",
       "\n",
       "                                               Titol  \\\n",
       "0  ACORD 147/2015, de 18 de novembre, del Ple del...   \n",
       "1  ACORD 145/2015, de 18 de novembre, del Ple del...   \n",
       "2  ACORD 146/2015, de 18 de novembre, del Ple del...   \n",
       "3  ACORD sobre la creació i supressió de fitxers ...   \n",
       "4  ACORD sobre creació d'un fitxer públic que con...   \n",
       "\n",
       "                                                 URL  \\\n",
       "0  http://dogc.gencat.cat/ca/pdogc_canals_interns...   \n",
       "1  http://dogc.gencat.cat/ca/pdogc_canals_interns...   \n",
       "2  http://dogc.gencat.cat/ca/pdogc_canals_interns...   \n",
       "3  http://dogc.gencat.cat/ca/pdogc_canals_interns...   \n",
       "4  http://dogc.gencat.cat/ca/pdogc_canals_interns...   \n",
       "\n",
       "                        _id  classificacio  \n",
       "0  56bf19249a603e040a683e50              0  \n",
       "1  56bf192b9a603e040a683e51              2  \n",
       "2  56bf19349a603e040a683e52              2  \n",
       "3  56bf19419a603e040a683e53              4  \n",
       "4  56bf194b9a603e040a683e54              4  "
      ]
     },
     "execution_count": 146,
     "metadata": {},
     "output_type": "execute_result"
    }
   ],
   "source": [
    "data.head()"
   ]
  },
  {
   "cell_type": "code",
   "execution_count": 147,
   "metadata": {
    "collapsed": false
   },
   "outputs": [],
   "source": [
    "data_doc=data.groupby('Tipus Document')\n",
    "data_class=data.groupby('classificacio')\n",
    "count_class=data_class.Identificador.count()"
   ]
  },
  {
   "cell_type": "code",
   "execution_count": 148,
   "metadata": {
    "collapsed": false
   },
   "outputs": [],
   "source": [
    "#Text segons la classificació\n",
    "Text_0=data[data.classificacio ==0].Text\n",
    "Text_1=data[data.classificacio ==1].Text\n",
    "Text_2=data[data.classificacio ==2].Text\n",
    "Text_3=data[data.classificacio ==3].Text\n",
    "Text_4=data[data.classificacio ==4].Text\n",
    "Text_5=data[data.classificacio ==5].Text"
   ]
  },
  {
   "cell_type": "code",
   "execution_count": 149,
   "metadata": {
    "collapsed": false
   },
   "outputs": [
    {
     "name": "stdout",
     "output_type": "stream",
     "text": [
      "Classificació de textos amb LDA \n",
      "\n",
      "Class 0= 49\n",
      "Class 1= 67\n",
      "Class 2= 68\n",
      "Class 3= 8\n",
      "Class 4= 11\n",
      "Total= 204\n"
     ]
    }
   ],
   "source": [
    "print \"Classificació de textos amb LDA \\n\"\n",
    "print \"Class 0=\", len(np.unique(Text_0))\n",
    "print \"Class 1=\", len(np.unique(Text_1))\n",
    "print \"Class 2=\", len(np.unique(Text_2))\n",
    "print \"Class 3=\", len(np.unique(Text_3))\n",
    "print \"Class 4=\", len(np.unique(Text_4))\n",
    "print \"Total=\", data.Text.count()\n"
   ]
  },
  {
   "cell_type": "code",
   "execution_count": 150,
   "metadata": {
    "collapsed": false
   },
   "outputs": [],
   "source": [
    "texts=data.Text"
   ]
  },
  {
   "cell_type": "code",
   "execution_count": 269,
   "metadata": {
    "collapsed": false
   },
   "outputs": [
    {
     "data": {
      "text/plain": [
       "-1"
      ]
     },
     "execution_count": 269,
     "metadata": {},
     "output_type": "execute_result"
    }
   ],
   "source": [
    "text_0=new_preprocessed_docs21[0]\n",
    "text_0=str(text_0)\n",
    "text_0.find('daniel sirera')"
   ]
  },
  {
   "cell_type": "code",
   "execution_count": 327,
   "metadata": {
    "collapsed": false
   },
   "outputs": [],
   "source": [
    "find_persona=[]\n",
    "count=0\n",
    "for text in new_preprocessed_docs21:   \n",
    "    text=str(text)\n",
    "    if (text.find('lluis') != -1) & (text.find('recoder') != -1) : \n",
    "        find_persona.append(count)\n",
    "    count +=1    "
   ]
  },
  {
   "cell_type": "code",
   "execution_count": 328,
   "metadata": {
    "collapsed": false
   },
   "outputs": [
    {
     "data": {
      "text/plain": [
       "[129]"
      ]
     },
     "execution_count": 328,
     "metadata": {},
     "output_type": "execute_result"
    }
   ],
   "source": [
    "find_persona"
   ]
  },
  {
   "cell_type": "code",
   "execution_count": 330,
   "metadata": {
    "collapsed": false
   },
   "outputs": [
    {
     "data": {
      "text/plain": [
       "u\"De conformitat amb el disposat a l'article 108.6 de la Llei org\\xe0nica 5/1985, del r\\xe8gim electoral general, en relaci\\xf3 amb la disposici\\xf3 transit\\xf2ria segona de l'Estatut d'autonomia de Catalunya aprovat per Llei org\\xe0nica 6/2006, de 19 de juliol, la Junta Electoral Central, en la seva reuni\\xf3 de 16 de desembre de 2010, ha acordat la publicaci\\xf3 en el Diari Oficial de la Generalitat de Catalunya dels resultats generals i per circumscripcions de les eleccions al Parlament de Catalunya convocades per Decret del President de la Generalitat de Catalunya 132/2010, de 4 d'octubre, i celebrades el 28 de novembre de 2010, d'acord amb les actes d'escrutini general i de proclamaci\\xf3 d'electes remeses per les Juntes Electorals Provincials de la Comunitat Aut\\xf2noma de Catalunya, recollint les dades que figuren en les esmentades actes.\\nLa publicaci\\xf3 s'ordena de la manera seg\\xfcent:\\nQuadre 1. Resum general. Electors (total d'electors: residents en Espanya, residents absents que viuen a l'estranger i certificacions censals espec\\xedfiques d'alta), votants, vots a candidatures, vots en blanc, vots v\\xe0lids (vots a candidatures m\\xe9s els en blanc) i vots nuls.\\nQuadre 2. Relaci\\xf3 de vots corresponents a cada un dels partits, federacions, coalicions o agrupacions d'electors, amb indicaci\\xf3 del nombre d'escons obtinguts, en el seu cas.\\nA continuaci\\xf3 s'insereix la relaci\\xf3 de diputats proclamats electes, amb indicaci\\xf3 de la formaci\\xf3 pol\\xedtica a qu\\xe8 pertanyen i de la circumscripci\\xf3 per la qual han estat elegits.\\nPalau del Congr\\xe9s dels Diputats, 16 de desembre de 2010\\nAntonio Mart\\xedn Valverde\\nPresident de la Junta Electoral Central\\nEleccions al Parlament de Catalunya - 28 de novembre de 2010\\nQuadre 1\\nResum general\\n      Vots a\\nVots\\nVots\\n  Electors\\nVotants\\ncandidatures\\nen blanc\\nv\\xe0lids\\nBarcelona\\n4.003.751\\n2.357.263\\n2.274.165\\n68.241\\n2.342.406\\nGirona\\n496.421\\n295.326\\n284.097\\n8.439\\n292.536\\nLleida\\n312.605\\n187.159\\n178.929\\n6.565\\n185.494\\nTarragona\\n550.911\\n312.882\\n301.454\\n8.386\\n309.840\\nTOTAL\\n5.363.688\\n3.152.630\\n3.038.645\\n91.631\\n3.130.276\\nPalau del Congr\\xe9s dels Diputats, 16 de desembre de 2010\\nAntonio Mart\\xedn Valverde\\nPresident de la Junta Electoral Central\\nEleccions al Parlament de Catalunya - 28 de novembre de 2010\\nQuadre 2\\nV= Vots ; E= Escons.\\nCandidatures\\nBarcelona\\n  Girona\\n  V\\nE\\nV\\nConverg\\xe8ncia i Uni\\xf3\\n862.010\\n35\\n131.932\\nPartit dels Socialistes de Catalunya (PSC-PSOE)\\n449.549\\n18\\n41.742\\nPartit Popular\\n301.440\\n12\\n25.248\\nIniciativa per Catalunya Verds-Esquerra Unida i Alternativa\\n193.545\\n8\\n14.109\\nEsquerra Republicana de Catalunya\\n148.973\\n6\\n26.879\\nCiutadans-Partido de la Ciudadan\\xeda\\n89.990\\n3\\n4.954\\nSolidaritat Catalana per la Independ\\xe8ncia\\n72.693\\n3\\n13.889\\nPlataforma per Catalunya\\n57.381\\n  6.441\\nReagrupament Independentista\\n23.185\\n  9.557\\nEscons en Blanc-Ciudadanos en Blanco\\n14.185\\n  2.159\\nEls Verds-GrupVerd Europeu\\n12.087\\n  1.548\\nPACMA (Partit Antitaur\\xed contra el Maltractament Animal)-Animalista\\n11.593\\n  1.129\\nPagesos Per la Dignitat Rural Catalana\\n-\\n  824\\nDes de Baix\\n5.613\\n  715\\nPirates de Catalunya\\n5.001\\n  574\\nPartido Gay, L\\xe9sbico, Bisexual, Transexual y Heterosexual/TSI\\n-\\n  312\\nCoordinadora Reusenca Independent\\n-\\n  276\\nPartido de los Pensionistas en Acci\\xf3n\\n-\\n  271\\nPartit Per Catalunya\\n-\\n  -\\nUni\\xf3n, Progreso y Democracia\\n4.634\\n  238\\nCoordinadora Reusenca Independent\\n4.425\\n  -\\nPartido de los Pensionistas en Acci\\xf3n\\n2.508\\n  -\\nPartit Comunista del Poble de Catalunya\\n2.262\\n  233\\nBloc Sobiranista Catal\\xe0\\n-\\n  -\\nAlternativa de Govern\\n2.208\\n  -\\nPor un Mundo M\\xe1s Justo\\n1.774\\n  -\\nFamilia y Vida\\n1.624\\n  225\\nPartido Aragon\\xe9s\\n-\\n  -\\nPartido Obrero Socialista Internacionalista\\n1.399\\n  237\\nFalange Espa\\xf1ola de las J.O.N.S.\\n1.250\\n  172\\nCentro Democratico y Social\\n-\\n  -\\nPartit Republic\\xe0 D'Esquerra-Izquierda Republicana\\n1.101\\n  202\\nPartido Castellano\\n1.066\\n  -\\nPartit Humanista\\n856\\n  -\\nPartit de Justicia I Progres\\n-\\n  -\\nMovimiento Social Republicano\\n-\\n  -\\nUnificaci\\xf3n Comunista de Espa\\xf1a\\n726\\n  47\\nGent Nostra\\n597\\n  -\\nSolidaridad y Autogesti\\xf3n Internacionalista\\n-\\n  -\\nMovimiento Social Republicano\\n490\\n  184\\nAlternativa Liberal Social\\n-\\n  -\\nDemocraticaweb\\n-\\n  -\\nTOTAL\\n2.274.165\\n85\\n284.097\\nPalau del Congr\\xe9s dels Diputats, 16 de desembre de 2010\\nAntonio Mart\\xedn Valverde\\nPresident de la Junta Electoral Central\\nEleccions al Parlament de Catalunya-28 de novembre de 2010\\nRelaci\\xf3 de diputats proclamats electes\\nBARCELONA\\n(1) Artur Mas i Gavarr\\xf3 (CiU)\\n(2) Joana Ortega i Alemany (CiU)\\n(3) Felip Puig i Godes (CiU)\\n(4) Meritxell Borr\\xe0s i Sol\\xe9 (CiU)\\n(5) Ramon Espadaler i Parcerisas (CiU)\\n(6) Oriol Pujol i Ferrusola (CiU)\\n(7) Antoni Castell\\xe0 i Clav\\xe9 (CiU)\\n(8) Llu\\xeds Recoder i Miralles (CiU)\\n(9) Irene Rigau i Oliver (CiU)\\n(10) Neus Munt\\xe9 i Fern\\xe0ndez (CiU)\\n(11) Llu\\xeds Corominas i D\\xedaz (CiU)\\n(12) N\\xfaria de Gispert i Catal\\xe0 (CiU)\\n(13) Francesc Homs i Molist (CiU)\\n(14) Antoni Fern\\xe0ndez i Teixid\\xf3 (CiU)\\n(15) Cristina Iniesta i Blasco (CiU)\\n(16) Josep Rull i Andreu (CiU)\\n(17) Josep Maria Vila d`Abadal i Serra (CiU)\\n(18) Josep Llu\\xeds Cleries i Gonz\\xe0lez (CiU)\\n(19) Maria Gl\\xf2ria Renom i Vallbona (CiU)\\n(20) Marta Llorens i Garcia (CiU)\\n(21) Jordi Turull i Negre (CiU)\\n(22) Joan Recasens i Guinot (CiU)\\n(23) David Bonveh\\xed i Torras (CiU)\\n(24) Anna Figueras i Ib\\xe1\\xf1ez (CiU)\\n(25) Montserrat Ribera i Puig (CiU)\\n(26) Joan Morell i Comas (CiU)\\n(27) Assumpci\\xf3 La\\xeflla i Jou (CiU)\\n(28) Jordi Cuminal i Roquet (CiU)\\n(29) Pere Regull i Riba (CiU)\\n(30) M.Merc\\xe8 Jou i Torras (CiU)\\n(31) Gerard M. Figueras i Alb\\xe0 (CiU)\\n(32) Dolors Gordi i Juli\\xe0 (CiU)\\n(33) Francesc Bragulat i Bosom (CiU)\\n(34) Maria Senserrich i Guitart (CiU)\\n(35) Roger Monta\\xf1ola i Busquets (CiU)\\n(36) Montserrat Tura Camafreita (PSC)\\n(37) Celestino Corbacho Chaves (PSC)\\n(38) Laia Bonet Rull (PSC)\\n(39) Miquel Iceta Llorens (PSC)\\n(40) Manuela de Madre Ortega (PSC)\\n(41) Ernest Maragall Mira (PSC)\\n(42) Rocio Mart\\xednez-Sampere Rodrigo (PSC)\\n(43) Jaume Collboni Cuadrado (PSC)\\n(44) Eva Maria Granados Galiano (PSC)\\n(45) Joan Ferran Serafini (PSC)\\n(46) Higini Clotas Cierco (PSC)\\n(47) Consol Prados Martinez (PSC)\\n(48) Daniel Font Cardona (PSC)\\n(49) Montserat Capdevila Tatch\\xe9 (PSC)\\n(50) Jordi Terrades Santacreu (PSC)\\n(51) Caterina Mieras Barcel\\xf3 (PSC)\\n(52) Roberto Edgardo Labandera Ganachipi (PSC)\\n(53) Judit Carreras Tort (PSC)\\n(54) Alicia S\\xe1nchez-Camacho P\\xe9rez (P.P.)\\n(55) Jordi Cornet i Serra (P.P.)\\n(56) Maria de los Llanos de Luna Tobarra (P.P.)\\n(57) Pere Calb\\xf3 i Roca (P.P.)\\n(58) M\\xaa. Jos\\xe9 Garc\\xeda Cuevas (P.P.)\\n(59) M\\xaa. Dolors Montserrat i Culler\\xe9 (P.P.)\\n(60) Josep Llobet Navarro (P.P.)\\n(61) Eva Garc\\xeda Rodr\\xedguez (P.P.)\\n(62) Jos\\xe9 Antonio Coto Roquet (P.P.)\\n(63) Pedro Chumillas Zurilla (P.P.)\\n(64) Rafael L\\xf3pez Rueda (P.P.)\\n(65) Santiago Rodr\\xedguez Serra (P.P.)\\n(66) Joan Herrera Torres (ICV-EUiA)\\n(67) Dolors Camats Luis (ICV-EUiA)\\n(68) Jordi Miralles Conte (ICV-EUiA)\\n(69) Jaume Bosch Mestres (ICV-EUiA)\\n(70) Laia Ortiz Castellv\\xed (ICV-EUiA)\\n(71) Laura Massana Mas (ICV-EUiA)\\n(72) Salvador Mil\\xe0 Solsona (ICV-EUiA)\\n(73) Merc\\xe8 Civit Illa (ICV-EUiA)\\n(74) Joan Puigcerc\\xf3s i Boixassa (Esquerra)\\n(75) Anna Sim\\xf3 i Castell\\xf3 (Esquerra)\\n(76) Laura Vilagr\\xe0 i Pons (Esquerra)\\n(77) Oriol Amor\\xf3s i March (Esquerra)\\n(78) Marc Sanglas i Alcantarilla (Esquerra)\\n(79) Pere Aragon\\xe8s i Garcia (Esquerra)\\n(80) Albert Rivera Diaz (C`s)\\n(81) M\\xaa del Carmen de Rivera Pla (C`s)\\n(82) Jordi Ca\\xf1as Perez (C`s)\\n(83) Joan Laporta i Estruch (SI)\\n(84) Alfons L\\xf3pez i Tena (SI)\\n(85) Uriel Bertran i Arru\\xe9 (SI)\\nGIRONA\\n(1) Santi Vila i Vicente (CiU)\\n(2) Elena Ribera i Garijo (CiU)\\n(3) Eudald Casades\\xfas i Barcel\\xf3 (CiU)\\n(4) Xavier Crespo i Llobet (CiU)\\n(5) M\\xaa. Dolors Rovirola i Corom\\xed (CiU)\\n(6) Carles Puigdemont i Casamaj\\xf3 (CiU)\\n(7) Xavier Dilm\\xe9 i Vert (CiU)\\n(8) Llu\\xeds Guin\\xf3 i Subir\\xf3s (CiU)\\n(9) Begonya Montalban i Vilas (CiU)\\n(10) Joaquim Nadal i Farreras (PSC-PSOE)\\n(11) Marina Geli i F\\xe0bregas (PSC-PSOE)\\n(12) Esteve Pujol i Bad\\xe0 (PSC-PSOE)\\n(13) Carme Capdevila i Palau (Esquerra)\\n(14) Pere Vigo i Sallent (Esquerra)\\n(15) Josep Enric Millo i Rocher (P.P.)\\n(16) Joan Boada Masoliver (ICV-EUiA)\\n(17) Antoni Strubell i Trueta (SI)\\nLLEIDA\\n(1) Albert Batalla i Siscart (CiU)\\n(2) Josep M\\xaa. Pelegr\\xed i Aixut (CiU)\\n(3) Marta Al\\xf2s i L\\xf3pez (CiU)\\n(4) Joan Re\\xf1\\xe9 i Huguet (CiU)\\n(5) Ramona Barrufet i Santacana (CiU)\\n(6) Agust\\xed L\\xf3pez i Pla (CiU)\\n(7) Anna Miranda i Torres (CiU)\\n(8) Antoni Balasch i Parisi (CiU)\\n(9) Mireia Canals i Botines (CiU)\\n(10) Joaquim Llena i Cortina (PSC-PSOE)\\n(11) Agn\\xe8s Pardell i Ve\\xe0 (PSC-PSOE)\\n(12) M\\xf2nica Lafuente de la Torre (PSC-PSOE)\\n(13) Dolors L\\xf3pez Aguilar (P.P.)\\n(14) Marisa Xandri Pujol (P.P.)\\n(15) Carmel M\\xf2dol Bresol\\xed (Esquerra)\\nTARRAGONA\\n(1) Josep Poblet i Tous (CiU)\\n(2) Carles Sala i Roca (CiU)\\n(3) M\\xaa. Dolors Batalla i Nogu\\xe9s (CiU)\\n(4) Meritxell Roig\\xe9 i Pedrola (CiU)\\n(5) Carles Pellicer i Punyed (CiU)\\n(6) F. Xavier Pallar\\xe8s i Povill (CiU)\\n(7) Milagros Fern\\xe1ndez i L\\xf3pez (CiU)\\n(8) M\\xaa. Vict\\xf2ria Forns i Fern\\xe1ndez (CiU)\\n(9) Francesc Sancho i Serena (CiU)\\n(10) Francesc Xavier Sabat\\xe9 Ibarz (PSC-PSOE)\\n(11) N\\xfaria Ventura Brusca (PSC-PSOE)\\n(12) Josep M. Sabat\\xe9 Guasch (PSC-PSOE)\\n(13) Nuria Seg\\xfa Ferr\\xe9 (PSC-PSOE)\\n(14) Rafael Luna Vivas (P.P.)\\n(15) Juan Bertomeu Bertomeu (P.P.)\\n(16) Alicia Alegret Mart\\xed (P.P.)\\n(17) Sergi de los R\\xedos Mart\\xednez (Esquerra)\\n(18) Hort\\xe8nsia Grau Juan (ICV-EUiA)\\nPalau del Congr\\xe9s dels Diputats, 16 de desembre de 2010\\nAntonio Mart\\xedn Valverde\\nPresident de la Junta Electoral Central\\n(11.011.010)\\n \""
      ]
     },
     "execution_count": 330,
     "metadata": {},
     "output_type": "execute_result"
    }
   ],
   "source": [
    "new_preprocessed_docs21[129]\n",
    "textos[129]"
   ]
  }
 ],
 "metadata": {
  "kernelspec": {
   "display_name": "Python 2",
   "language": "python",
   "name": "python2"
  },
  "language_info": {
   "codemirror_mode": {
    "name": "ipython",
    "version": 2
   },
   "file_extension": ".py",
   "mimetype": "text/x-python",
   "name": "python",
   "nbconvert_exporter": "python",
   "pygments_lexer": "ipython2",
   "version": "2.7.13"
  }
 },
 "nbformat": 4,
 "nbformat_minor": 0
}
